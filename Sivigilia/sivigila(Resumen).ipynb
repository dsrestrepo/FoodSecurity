{
 "cells": [
  {
   "cell_type": "code",
   "execution_count": 1,
   "metadata": {
    "colab": {
     "base_uri": "https://localhost:8080/"
    },
    "executionInfo": {
     "elapsed": 360,
     "status": "ok",
     "timestamp": 1614640913848,
     "user": {
      "displayName": "DAVID RESTREPO",
      "photoUrl": "https://lh3.googleusercontent.com/a-/AOh14GgqxItBQRJ0dDzIdCZM0BMuA0KeTKTlKRNGMApY=s64",
      "userId": "09638303782015555303"
     },
     "user_tz": 300
    },
    "id": "ZsLZSz_6ixoR",
    "outputId": "16c14dad-7b50-4e5e-e534-1cf8c4fff722"
   },
   "outputs": [
    {
     "data": {
      "text/plain": [
       "\"\\n#connect with drive\\nfrom google.colab import drive\\ndrive.mount('/content/drive')\\n\""
      ]
     },
     "execution_count": 1,
     "metadata": {},
     "output_type": "execute_result"
    }
   ],
   "source": [
    "# If you are working with a shape file stored in google drive remove the quotes (\"\"\" \"\"\")\n",
    "\n",
    "\"\"\"\n",
    "#connect with drive\n",
    "from google.colab import drive\n",
    "drive.mount('/content/drive')\n",
    "\"\"\""
   ]
  },
  {
   "cell_type": "code",
   "execution_count": 2,
   "metadata": {
    "id": "uJbhfYy9qE5c"
   },
   "outputs": [],
   "source": [
    "import pandas as pd\n",
    "import numpy as np\n",
    "import matplotlib.pyplot as plt\n"
   ]
  },
  {
   "cell_type": "code",
   "execution_count": 3,
   "metadata": {},
   "outputs": [],
   "source": [
    "path = 'Data/'"
   ]
  },
  {
   "cell_type": "markdown",
   "metadata": {
    "id": "aRpWfnpHgFoH"
   },
   "source": [
    "# import with pandas"
   ]
  },
  {
   "cell_type": "code",
   "execution_count": 4,
   "metadata": {
    "id": "CcwNFXxEqMh0"
   },
   "outputs": [],
   "source": [
    "df_sivigilia_2017 = pd.read_csv(path + \"SIVIGILA_2017.csv\")\n",
    "df_sivigilia_2018 = pd.read_csv(path + \"SIVIGILA_2018.csv\")\n",
    "df_sivigilia_2019 = pd.read_csv(path + \"SIVIGILA_2019.csv\")"
   ]
  },
  {
   "cell_type": "markdown",
   "metadata": {
    "id": "yWCrRAg7gKqj"
   },
   "source": [
    "# See what is in:"
   ]
  },
  {
   "cell_type": "code",
   "execution_count": 5,
   "metadata": {
    "colab": {
     "base_uri": "https://localhost:8080/",
     "height": 204
    },
    "executionInfo": {
     "elapsed": 391,
     "status": "ok",
     "timestamp": 1614640920785,
     "user": {
      "displayName": "DAVID RESTREPO",
      "photoUrl": "https://lh3.googleusercontent.com/a-/AOh14GgqxItBQRJ0dDzIdCZM0BMuA0KeTKTlKRNGMApY=s64",
      "userId": "09638303782015555303"
     },
     "user_tz": 300
    },
    "id": "84V3WCNqqmqH",
    "outputId": "ea34b75a-8fd3-4cbc-e113-76919e3bb35e"
   },
   "outputs": [
    {
     "data": {
      "text/html": [
       "<div>\n",
       "<style scoped>\n",
       "    .dataframe tbody tr th:only-of-type {\n",
       "        vertical-align: middle;\n",
       "    }\n",
       "\n",
       "    .dataframe tbody tr th {\n",
       "        vertical-align: top;\n",
       "    }\n",
       "\n",
       "    .dataframe thead th {\n",
       "        text-align: right;\n",
       "    }\n",
       "</style>\n",
       "<table border=\"1\" class=\"dataframe\">\n",
       "  <thead>\n",
       "    <tr style=\"text-align: right;\">\n",
       "      <th></th>\n",
       "      <th>cod_eve</th>\n",
       "      <th>Nombre</th>\n",
       "      <th>ANO</th>\n",
       "      <th>SEMANA</th>\n",
       "      <th>cod_dpto</th>\n",
       "      <th>nom_mun</th>\n",
       "      <th>cod_mun</th>\n",
       "      <th>conteo_casos</th>\n",
       "    </tr>\n",
       "  </thead>\n",
       "  <tbody>\n",
       "    <tr>\n",
       "      <th>0</th>\n",
       "      <td>100</td>\n",
       "      <td>ACCIDENTE OFIDICO</td>\n",
       "      <td>2017</td>\n",
       "      <td>1</td>\n",
       "      <td>5</td>\n",
       "      <td>CAUCASIA</td>\n",
       "      <td>154</td>\n",
       "      <td>1</td>\n",
       "    </tr>\n",
       "    <tr>\n",
       "      <th>1</th>\n",
       "      <td>100</td>\n",
       "      <td>ACCIDENTE OFIDICO</td>\n",
       "      <td>2017</td>\n",
       "      <td>1</td>\n",
       "      <td>5</td>\n",
       "      <td>PUERTO TRIUNFO</td>\n",
       "      <td>591</td>\n",
       "      <td>1</td>\n",
       "    </tr>\n",
       "    <tr>\n",
       "      <th>2</th>\n",
       "      <td>100</td>\n",
       "      <td>ACCIDENTE OFIDICO</td>\n",
       "      <td>2017</td>\n",
       "      <td>1</td>\n",
       "      <td>5</td>\n",
       "      <td>SAN RAFAEL</td>\n",
       "      <td>667</td>\n",
       "      <td>2</td>\n",
       "    </tr>\n",
       "    <tr>\n",
       "      <th>3</th>\n",
       "      <td>100</td>\n",
       "      <td>ACCIDENTE OFIDICO</td>\n",
       "      <td>2017</td>\n",
       "      <td>1</td>\n",
       "      <td>5</td>\n",
       "      <td>SEGOVIA</td>\n",
       "      <td>736</td>\n",
       "      <td>1</td>\n",
       "    </tr>\n",
       "    <tr>\n",
       "      <th>4</th>\n",
       "      <td>100</td>\n",
       "      <td>ACCIDENTE OFIDICO</td>\n",
       "      <td>2017</td>\n",
       "      <td>1</td>\n",
       "      <td>5</td>\n",
       "      <td>TURBO</td>\n",
       "      <td>837</td>\n",
       "      <td>1</td>\n",
       "    </tr>\n",
       "  </tbody>\n",
       "</table>\n",
       "</div>"
      ],
      "text/plain": [
       "   cod_eve             Nombre   ANO  SEMANA  cod_dpto         nom_mun  \\\n",
       "0      100  ACCIDENTE OFIDICO  2017       1         5        CAUCASIA   \n",
       "1      100  ACCIDENTE OFIDICO  2017       1         5  PUERTO TRIUNFO   \n",
       "2      100  ACCIDENTE OFIDICO  2017       1         5      SAN RAFAEL   \n",
       "3      100  ACCIDENTE OFIDICO  2017       1         5         SEGOVIA   \n",
       "4      100  ACCIDENTE OFIDICO  2017       1         5           TURBO   \n",
       "\n",
       "   cod_mun  conteo_casos  \n",
       "0      154             1  \n",
       "1      591             1  \n",
       "2      667             2  \n",
       "3      736             1  \n",
       "4      837             1  "
      ]
     },
     "execution_count": 5,
     "metadata": {},
     "output_type": "execute_result"
    }
   ],
   "source": [
    "df_sivigilia_2017.head()"
   ]
  },
  {
   "cell_type": "code",
   "execution_count": 6,
   "metadata": {
    "colab": {
     "base_uri": "https://localhost:8080/",
     "height": 204
    },
    "executionInfo": {
     "elapsed": 433,
     "status": "ok",
     "timestamp": 1614640922019,
     "user": {
      "displayName": "DAVID RESTREPO",
      "photoUrl": "https://lh3.googleusercontent.com/a-/AOh14GgqxItBQRJ0dDzIdCZM0BMuA0KeTKTlKRNGMApY=s64",
      "userId": "09638303782015555303"
     },
     "user_tz": 300
    },
    "id": "PmnCIGIhqoD5",
    "outputId": "e608460d-16ee-4a8d-8b40-7e23c19d875b"
   },
   "outputs": [
    {
     "data": {
      "text/html": [
       "<div>\n",
       "<style scoped>\n",
       "    .dataframe tbody tr th:only-of-type {\n",
       "        vertical-align: middle;\n",
       "    }\n",
       "\n",
       "    .dataframe tbody tr th {\n",
       "        vertical-align: top;\n",
       "    }\n",
       "\n",
       "    .dataframe thead th {\n",
       "        text-align: right;\n",
       "    }\n",
       "</style>\n",
       "<table border=\"1\" class=\"dataframe\">\n",
       "  <thead>\n",
       "    <tr style=\"text-align: right;\">\n",
       "      <th></th>\n",
       "      <th>COD_EVE</th>\n",
       "      <th>Nombre</th>\n",
       "      <th>ANO</th>\n",
       "      <th>SEMANA</th>\n",
       "      <th>COD_DPTO_O</th>\n",
       "      <th>nom_mun</th>\n",
       "      <th>COD_MUN_O</th>\n",
       "      <th>conteo_casos</th>\n",
       "    </tr>\n",
       "  </thead>\n",
       "  <tbody>\n",
       "    <tr>\n",
       "      <th>0</th>\n",
       "      <td>100</td>\n",
       "      <td>ACCIDENTE OFIDICO</td>\n",
       "      <td>2018</td>\n",
       "      <td>1</td>\n",
       "      <td>5</td>\n",
       "      <td>CHIGORODO</td>\n",
       "      <td>172</td>\n",
       "      <td>1</td>\n",
       "    </tr>\n",
       "    <tr>\n",
       "      <th>1</th>\n",
       "      <td>100</td>\n",
       "      <td>ACCIDENTE OFIDICO</td>\n",
       "      <td>2018</td>\n",
       "      <td>1</td>\n",
       "      <td>5</td>\n",
       "      <td>EL BAGRE</td>\n",
       "      <td>250</td>\n",
       "      <td>1</td>\n",
       "    </tr>\n",
       "    <tr>\n",
       "      <th>2</th>\n",
       "      <td>100</td>\n",
       "      <td>ACCIDENTE OFIDICO</td>\n",
       "      <td>2018</td>\n",
       "      <td>1</td>\n",
       "      <td>5</td>\n",
       "      <td>JARDIN</td>\n",
       "      <td>364</td>\n",
       "      <td>1</td>\n",
       "    </tr>\n",
       "    <tr>\n",
       "      <th>3</th>\n",
       "      <td>100</td>\n",
       "      <td>ACCIDENTE OFIDICO</td>\n",
       "      <td>2018</td>\n",
       "      <td>1</td>\n",
       "      <td>5</td>\n",
       "      <td>MURINDO</td>\n",
       "      <td>475</td>\n",
       "      <td>1</td>\n",
       "    </tr>\n",
       "    <tr>\n",
       "      <th>4</th>\n",
       "      <td>100</td>\n",
       "      <td>ACCIDENTE OFIDICO</td>\n",
       "      <td>2018</td>\n",
       "      <td>1</td>\n",
       "      <td>5</td>\n",
       "      <td>NECHI</td>\n",
       "      <td>495</td>\n",
       "      <td>1</td>\n",
       "    </tr>\n",
       "  </tbody>\n",
       "</table>\n",
       "</div>"
      ],
      "text/plain": [
       "   COD_EVE             Nombre   ANO  SEMANA  COD_DPTO_O    nom_mun  COD_MUN_O  \\\n",
       "0      100  ACCIDENTE OFIDICO  2018       1           5  CHIGORODO        172   \n",
       "1      100  ACCIDENTE OFIDICO  2018       1           5   EL BAGRE        250   \n",
       "2      100  ACCIDENTE OFIDICO  2018       1           5     JARDIN        364   \n",
       "3      100  ACCIDENTE OFIDICO  2018       1           5    MURINDO        475   \n",
       "4      100  ACCIDENTE OFIDICO  2018       1           5      NECHI        495   \n",
       "\n",
       "   conteo_casos  \n",
       "0             1  \n",
       "1             1  \n",
       "2             1  \n",
       "3             1  \n",
       "4             1  "
      ]
     },
     "execution_count": 6,
     "metadata": {},
     "output_type": "execute_result"
    }
   ],
   "source": [
    "df_sivigilia_2018.head()"
   ]
  },
  {
   "cell_type": "code",
   "execution_count": 7,
   "metadata": {
    "colab": {
     "base_uri": "https://localhost:8080/",
     "height": 204
    },
    "executionInfo": {
     "elapsed": 346,
     "status": "ok",
     "timestamp": 1614640923060,
     "user": {
      "displayName": "DAVID RESTREPO",
      "photoUrl": "https://lh3.googleusercontent.com/a-/AOh14GgqxItBQRJ0dDzIdCZM0BMuA0KeTKTlKRNGMApY=s64",
      "userId": "09638303782015555303"
     },
     "user_tz": 300
    },
    "id": "Bz6_tlQiq5sR",
    "outputId": "d2667cb3-1827-4efa-ba00-6c98b18086b9"
   },
   "outputs": [
    {
     "data": {
      "text/html": [
       "<div>\n",
       "<style scoped>\n",
       "    .dataframe tbody tr th:only-of-type {\n",
       "        vertical-align: middle;\n",
       "    }\n",
       "\n",
       "    .dataframe tbody tr th {\n",
       "        vertical-align: top;\n",
       "    }\n",
       "\n",
       "    .dataframe thead th {\n",
       "        text-align: right;\n",
       "    }\n",
       "</style>\n",
       "<table border=\"1\" class=\"dataframe\">\n",
       "  <thead>\n",
       "    <tr style=\"text-align: right;\">\n",
       "      <th></th>\n",
       "      <th>COD_EVE</th>\n",
       "      <th>Nombre</th>\n",
       "      <th>ANO</th>\n",
       "      <th>SEMANA</th>\n",
       "      <th>COD_DPTO_O</th>\n",
       "      <th>nom_mun</th>\n",
       "      <th>COD_MUN_O</th>\n",
       "      <th>conteo_casos</th>\n",
       "    </tr>\n",
       "  </thead>\n",
       "  <tbody>\n",
       "    <tr>\n",
       "      <th>0</th>\n",
       "      <td>100</td>\n",
       "      <td>ACCIDENTE OFIDICO</td>\n",
       "      <td>2019</td>\n",
       "      <td>1</td>\n",
       "      <td>5</td>\n",
       "      <td>EL BAGRE</td>\n",
       "      <td>250</td>\n",
       "      <td>2</td>\n",
       "    </tr>\n",
       "    <tr>\n",
       "      <th>1</th>\n",
       "      <td>100</td>\n",
       "      <td>ACCIDENTE OFIDICO</td>\n",
       "      <td>2019</td>\n",
       "      <td>1</td>\n",
       "      <td>5</td>\n",
       "      <td>MUTATA</td>\n",
       "      <td>480</td>\n",
       "      <td>1</td>\n",
       "    </tr>\n",
       "    <tr>\n",
       "      <th>2</th>\n",
       "      <td>100</td>\n",
       "      <td>ACCIDENTE OFIDICO</td>\n",
       "      <td>2019</td>\n",
       "      <td>1</td>\n",
       "      <td>5</td>\n",
       "      <td>YARUMAL</td>\n",
       "      <td>887</td>\n",
       "      <td>1</td>\n",
       "    </tr>\n",
       "    <tr>\n",
       "      <th>3</th>\n",
       "      <td>100</td>\n",
       "      <td>ACCIDENTE OFIDICO</td>\n",
       "      <td>2019</td>\n",
       "      <td>1</td>\n",
       "      <td>8</td>\n",
       "      <td>GALAPA</td>\n",
       "      <td>296</td>\n",
       "      <td>1</td>\n",
       "    </tr>\n",
       "    <tr>\n",
       "      <th>4</th>\n",
       "      <td>100</td>\n",
       "      <td>ACCIDENTE OFIDICO</td>\n",
       "      <td>2019</td>\n",
       "      <td>1</td>\n",
       "      <td>13</td>\n",
       "      <td>ARJONA</td>\n",
       "      <td>52</td>\n",
       "      <td>1</td>\n",
       "    </tr>\n",
       "  </tbody>\n",
       "</table>\n",
       "</div>"
      ],
      "text/plain": [
       "   COD_EVE             Nombre   ANO  SEMANA  COD_DPTO_O   nom_mun  COD_MUN_O  \\\n",
       "0      100  ACCIDENTE OFIDICO  2019       1           5  EL BAGRE        250   \n",
       "1      100  ACCIDENTE OFIDICO  2019       1           5    MUTATA        480   \n",
       "2      100  ACCIDENTE OFIDICO  2019       1           5   YARUMAL        887   \n",
       "3      100  ACCIDENTE OFIDICO  2019       1           8    GALAPA        296   \n",
       "4      100  ACCIDENTE OFIDICO  2019       1          13    ARJONA         52   \n",
       "\n",
       "   conteo_casos  \n",
       "0             2  \n",
       "1             1  \n",
       "2             1  \n",
       "3             1  \n",
       "4             1  "
      ]
     },
     "execution_count": 7,
     "metadata": {},
     "output_type": "execute_result"
    }
   ],
   "source": [
    "df_sivigilia_2019.head()"
   ]
  },
  {
   "cell_type": "markdown",
   "metadata": {
    "id": "3HWbqECrgSC0"
   },
   "source": [
    "# See null, Na or Nan and delete them if any"
   ]
  },
  {
   "cell_type": "code",
   "execution_count": 8,
   "metadata": {
    "colab": {
     "base_uri": "https://localhost:8080/"
    },
    "executionInfo": {
     "elapsed": 351,
     "status": "ok",
     "timestamp": 1614640924739,
     "user": {
      "displayName": "DAVID RESTREPO",
      "photoUrl": "https://lh3.googleusercontent.com/a-/AOh14GgqxItBQRJ0dDzIdCZM0BMuA0KeTKTlKRNGMApY=s64",
      "userId": "09638303782015555303"
     },
     "user_tz": 300
    },
    "id": "l4ixI6KQXkV6",
    "outputId": "41c0ffb7-e3c1-477c-9f3c-71896ee4b214"
   },
   "outputs": [
    {
     "name": "stdout",
     "output_type": "stream",
     "text": [
      "the shape before is: (193641, 8)\n",
      "the shape sfter is: (193641, 8)\n"
     ]
    }
   ],
   "source": [
    "print(f\"the shape before is: {df_sivigilia_2017.shape}\")\n",
    "df_sivigilia_2017 = df_sivigilia_2017[df_sivigilia_2017.notna()]\n",
    "print(f\"the shape sfter is: {df_sivigilia_2017.shape}\")"
   ]
  },
  {
   "cell_type": "code",
   "execution_count": 9,
   "metadata": {
    "colab": {
     "base_uri": "https://localhost:8080/"
    },
    "executionInfo": {
     "elapsed": 339,
     "status": "ok",
     "timestamp": 1614640925753,
     "user": {
      "displayName": "DAVID RESTREPO",
      "photoUrl": "https://lh3.googleusercontent.com/a-/AOh14GgqxItBQRJ0dDzIdCZM0BMuA0KeTKTlKRNGMApY=s64",
      "userId": "09638303782015555303"
     },
     "user_tz": 300
    },
    "id": "5AefbpNFXkaV",
    "outputId": "6bd510f8-d930-45e0-ce61-e8af24348043"
   },
   "outputs": [
    {
     "name": "stdout",
     "output_type": "stream",
     "text": [
      "the shape before is: (194139, 8)\n",
      "the shape sfter is: (194139, 8)\n"
     ]
    }
   ],
   "source": [
    "print(f\"the shape before is: {df_sivigilia_2018.shape}\")\n",
    "df_sivigilia_2018 = df_sivigilia_2018[df_sivigilia_2018.notna()]\n",
    "print(f\"the shape sfter is: {df_sivigilia_2018.shape}\")"
   ]
  },
  {
   "cell_type": "code",
   "execution_count": 10,
   "metadata": {
    "colab": {
     "base_uri": "https://localhost:8080/"
    },
    "executionInfo": {
     "elapsed": 381,
     "status": "ok",
     "timestamp": 1614640926345,
     "user": {
      "displayName": "DAVID RESTREPO",
      "photoUrl": "https://lh3.googleusercontent.com/a-/AOh14GgqxItBQRJ0dDzIdCZM0BMuA0KeTKTlKRNGMApY=s64",
      "userId": "09638303782015555303"
     },
     "user_tz": 300
    },
    "id": "gFKazec3XkfP",
    "outputId": "c140e242-d715-4391-d702-ac16adcb0cf5"
   },
   "outputs": [
    {
     "name": "stdout",
     "output_type": "stream",
     "text": [
      "the shape before is: (205532, 8)\n",
      "the shape sfter is: (205532, 8)\n"
     ]
    }
   ],
   "source": [
    "print(f\"the shape before is: {df_sivigilia_2019.shape}\")\n",
    "df_sivigilia_2019 = df_sivigilia_2019[df_sivigilia_2019.notna()]\n",
    "print(f\"the shape sfter is: {df_sivigilia_2019.shape}\")"
   ]
  },
  {
   "cell_type": "markdown",
   "metadata": {
    "id": "k3wdfIt1gdmP"
   },
   "source": [
    "# Analyze type of data"
   ]
  },
  {
   "cell_type": "code",
   "execution_count": 11,
   "metadata": {
    "colab": {
     "base_uri": "https://localhost:8080/"
    },
    "executionInfo": {
     "elapsed": 427,
     "status": "ok",
     "timestamp": 1614640928281,
     "user": {
      "displayName": "DAVID RESTREPO",
      "photoUrl": "https://lh3.googleusercontent.com/a-/AOh14GgqxItBQRJ0dDzIdCZM0BMuA0KeTKTlKRNGMApY=s64",
      "userId": "09638303782015555303"
     },
     "user_tz": 300
    },
    "id": "JuESwzE6q8kb",
    "outputId": "fb144c62-93ef-47e0-f899-807c77a3770a"
   },
   "outputs": [
    {
     "name": "stdout",
     "output_type": "stream",
     "text": [
      "the categorical columns are:  ['Nombre', 'nom_mun']\n",
      "the numcerical cols are:  ['cod_eve', 'ANO', 'SEMANA', 'cod_dpto', 'cod_mun', 'conteo_casos']\n"
     ]
    }
   ],
   "source": [
    "#get categorical cols\n",
    "categoricals = df_sivigilia_2017.dtypes=='object'\n",
    "all_categorical_cols= list(categoricals[categoricals].index)\n",
    "print('the categorical columns are: ', all_categorical_cols)\n",
    "\n",
    "#get numerical cols\n",
    "numerical_cols=[col for col in df_sivigilia_2017.columns if df_sivigilia_2017[col].dtypes in ['int64', 'float64']]\n",
    "print('the numcerical cols are: ', numerical_cols)"
   ]
  },
  {
   "cell_type": "code",
   "execution_count": 12,
   "metadata": {
    "colab": {
     "base_uri": "https://localhost:8080/"
    },
    "executionInfo": {
     "elapsed": 443,
     "status": "ok",
     "timestamp": 1614640929433,
     "user": {
      "displayName": "DAVID RESTREPO",
      "photoUrl": "https://lh3.googleusercontent.com/a-/AOh14GgqxItBQRJ0dDzIdCZM0BMuA0KeTKTlKRNGMApY=s64",
      "userId": "09638303782015555303"
     },
     "user_tz": 300
    },
    "id": "QtTxMcjYr-YM",
    "outputId": "0e637331-2cff-4f29-c388-c76a9b762010"
   },
   "outputs": [
    {
     "name": "stdout",
     "output_type": "stream",
     "text": [
      "the categorical columns are:  ['Nombre', 'nom_mun']\n",
      "the numcerical cols are:  ['COD_EVE', 'ANO', 'SEMANA', 'COD_DPTO_O', 'COD_MUN_O', 'conteo_casos']\n"
     ]
    }
   ],
   "source": [
    "#get categorical cols\n",
    "categoricals = df_sivigilia_2018.dtypes=='object'\n",
    "all_categorical_cols= list(categoricals[categoricals].index)\n",
    "print('the categorical columns are: ', all_categorical_cols)\n",
    "\n",
    "#get numerical cols\n",
    "numerical_cols=[col for col in df_sivigilia_2018.columns if df_sivigilia_2018[col].dtypes in ['int64', 'float64']]\n",
    "print('the numcerical cols are: ', numerical_cols)"
   ]
  },
  {
   "cell_type": "code",
   "execution_count": 13,
   "metadata": {
    "colab": {
     "base_uri": "https://localhost:8080/"
    },
    "executionInfo": {
     "elapsed": 451,
     "status": "ok",
     "timestamp": 1614640930183,
     "user": {
      "displayName": "DAVID RESTREPO",
      "photoUrl": "https://lh3.googleusercontent.com/a-/AOh14GgqxItBQRJ0dDzIdCZM0BMuA0KeTKTlKRNGMApY=s64",
      "userId": "09638303782015555303"
     },
     "user_tz": 300
    },
    "id": "L3S4Q1gOsBdv",
    "outputId": "beb41807-f57f-40ba-b67d-15e82ec1b3f2"
   },
   "outputs": [
    {
     "name": "stdout",
     "output_type": "stream",
     "text": [
      "the categorical columns are:  ['Nombre', 'nom_mun']\n",
      "the numcerical cols are:  ['COD_EVE', 'ANO', 'SEMANA', 'COD_DPTO_O', 'COD_MUN_O', 'conteo_casos']\n"
     ]
    }
   ],
   "source": [
    "#get categorical cols\n",
    "categoricals = df_sivigilia_2019.dtypes=='object'\n",
    "all_categorical_cols= list(categoricals[categoricals].index)\n",
    "print('the categorical columns are: ', all_categorical_cols)\n",
    "\n",
    "#get numerical cols\n",
    "numerical_cols=[col for col in df_sivigilia_2019.columns if df_sivigilia_2019[col].dtypes in ['int64', 'float64']]\n",
    "print('the numcerical cols are: ', numerical_cols)"
   ]
  },
  {
   "cell_type": "markdown",
   "metadata": {
    "id": "f9a8X3gpg66h"
   },
   "source": [
    "# see diseases or problems in the dataset and compare between years"
   ]
  },
  {
   "cell_type": "code",
   "execution_count": 14,
   "metadata": {
    "id": "MAHdD5UxsISR"
   },
   "outputs": [],
   "source": [
    "# take a list of unique values\n",
    "disease_or_problem_2017 = list(df_sivigilia_2017.Nombre.unique())\n",
    "#disease_or_problem_2017"
   ]
  },
  {
   "cell_type": "code",
   "execution_count": 15,
   "metadata": {
    "id": "hGw92genjfOh"
   },
   "outputs": [],
   "source": [
    "# take a list of unique values\n",
    "disease_or_problem_2018 = list(df_sivigilia_2018.Nombre.unique())\n",
    "#disease_or_problem_2018"
   ]
  },
  {
   "cell_type": "code",
   "execution_count": 16,
   "metadata": {
    "id": "w7nM-wJVjfU7"
   },
   "outputs": [],
   "source": [
    "# take a list of unique values\n",
    "disease_or_problem_2019 = list(df_sivigilia_2019.Nombre.unique())\n",
    "#disease_or_problem_2019"
   ]
  },
  {
   "cell_type": "code",
   "execution_count": 17,
   "metadata": {
    "colab": {
     "base_uri": "https://localhost:8080/"
    },
    "executionInfo": {
     "elapsed": 317,
     "status": "ok",
     "timestamp": 1614640934385,
     "user": {
      "displayName": "DAVID RESTREPO",
      "photoUrl": "https://lh3.googleusercontent.com/a-/AOh14GgqxItBQRJ0dDzIdCZM0BMuA0KeTKTlKRNGMApY=s64",
      "userId": "09638303782015555303"
     },
     "user_tz": 300
    },
    "id": "NjOji-kzmfwp",
    "outputId": "254365b1-69e0-4d67-c62f-327a36910461"
   },
   "outputs": [
    {
     "data": {
      "text/plain": [
       "['RABIA HUMANA']"
      ]
     },
     "execution_count": 17,
     "metadata": {},
     "output_type": "execute_result"
    }
   ],
   "source": [
    "list_in2017_notin2018 = [item for item in disease_or_problem_2017 if item not in disease_or_problem_2018]\n",
    "list_in2017_notin2018"
   ]
  },
  {
   "cell_type": "code",
   "execution_count": 18,
   "metadata": {
    "colab": {
     "base_uri": "https://localhost:8080/"
    },
    "executionInfo": {
     "elapsed": 378,
     "status": "ok",
     "timestamp": 1614640934957,
     "user": {
      "displayName": "DAVID RESTREPO",
      "photoUrl": "https://lh3.googleusercontent.com/a-/AOh14GgqxItBQRJ0dDzIdCZM0BMuA0KeTKTlKRNGMApY=s64",
      "userId": "09638303782015555303"
     },
     "user_tz": 300
    },
    "id": "Z1mJkhoxn9g-",
    "outputId": "b3080865-e622-4de0-fa62-e8e9d31daa3c"
   },
   "outputs": [
    {
     "data": {
      "text/plain": [
       "['DIFTERIA',\n",
       " 'FIEBRE AMARILLA',\n",
       " 'SARAMPION',\n",
       " 'PARALISIS FLACIDA AGUDA (MENORES DE 15 AÑOS)']"
      ]
     },
     "execution_count": 18,
     "metadata": {},
     "output_type": "execute_result"
    }
   ],
   "source": [
    "list_in2018_notin2017 = [item for item in disease_or_problem_2018 if item not in disease_or_problem_2017]\n",
    "list_in2018_notin2017"
   ]
  },
  {
   "cell_type": "code",
   "execution_count": 19,
   "metadata": {
    "colab": {
     "base_uri": "https://localhost:8080/"
    },
    "executionInfo": {
     "elapsed": 548,
     "status": "ok",
     "timestamp": 1614640935409,
     "user": {
      "displayName": "DAVID RESTREPO",
      "photoUrl": "https://lh3.googleusercontent.com/a-/AOh14GgqxItBQRJ0dDzIdCZM0BMuA0KeTKTlKRNGMApY=s64",
      "userId": "09638303782015555303"
     },
     "user_tz": 300
    },
    "id": "WyJMXC9No1Is",
    "outputId": "cfde2f58-632a-490c-8057-374b9a71cf0a"
   },
   "outputs": [
    {
     "data": {
      "text/plain": [
       "['RABIA HUMANA']"
      ]
     },
     "execution_count": 19,
     "metadata": {},
     "output_type": "execute_result"
    }
   ],
   "source": [
    "list_in2017_notin2019 = [item for item in disease_or_problem_2017 if item not in disease_or_problem_2019]\n",
    "list_in2017_notin2019"
   ]
  },
  {
   "cell_type": "code",
   "execution_count": 20,
   "metadata": {
    "colab": {
     "base_uri": "https://localhost:8080/"
    },
    "executionInfo": {
     "elapsed": 571,
     "status": "ok",
     "timestamp": 1614640935674,
     "user": {
      "displayName": "DAVID RESTREPO",
      "photoUrl": "https://lh3.googleusercontent.com/a-/AOh14GgqxItBQRJ0dDzIdCZM0BMuA0KeTKTlKRNGMApY=s64",
      "userId": "09638303782015555303"
     },
     "user_tz": 300
    },
    "id": "fozhXOcymf7A",
    "outputId": "41fb241e-8444-4373-98f8-9869be75025b"
   },
   "outputs": [
    {
     "data": {
      "text/plain": [
       "['DIFTERIA', 'SARAMPION']"
      ]
     },
     "execution_count": 20,
     "metadata": {},
     "output_type": "execute_result"
    }
   ],
   "source": [
    "list_in2019_notin2017 = [item for item in disease_or_problem_2019 if item not in disease_or_problem_2017]\n",
    "list_in2019_notin2017"
   ]
  },
  {
   "cell_type": "code",
   "execution_count": 21,
   "metadata": {
    "colab": {
     "base_uri": "https://localhost:8080/"
    },
    "executionInfo": {
     "elapsed": 680,
     "status": "ok",
     "timestamp": 1614640936015,
     "user": {
      "displayName": "DAVID RESTREPO",
      "photoUrl": "https://lh3.googleusercontent.com/a-/AOh14GgqxItBQRJ0dDzIdCZM0BMuA0KeTKTlKRNGMApY=s64",
      "userId": "09638303782015555303"
     },
     "user_tz": 300
    },
    "id": "tbb1rtEUm3mK",
    "outputId": "15de3602-089d-4469-d50e-a9c41c2cde6f"
   },
   "outputs": [
    {
     "data": {
      "text/plain": [
       "['FIEBRE AMARILLA', 'PARALISIS FLACIDA AGUDA (MENORES DE 15 AÑOS)']"
      ]
     },
     "execution_count": 21,
     "metadata": {},
     "output_type": "execute_result"
    }
   ],
   "source": [
    "list_in2018_notin2019 = [item for item in disease_or_problem_2018 if item not in disease_or_problem_2019]\n",
    "list_in2018_notin2019"
   ]
  },
  {
   "cell_type": "code",
   "execution_count": 22,
   "metadata": {
    "colab": {
     "base_uri": "https://localhost:8080/"
    },
    "executionInfo": {
     "elapsed": 434,
     "status": "ok",
     "timestamp": 1614640936016,
     "user": {
      "displayName": "DAVID RESTREPO",
      "photoUrl": "https://lh3.googleusercontent.com/a-/AOh14GgqxItBQRJ0dDzIdCZM0BMuA0KeTKTlKRNGMApY=s64",
      "userId": "09638303782015555303"
     },
     "user_tz": 300
    },
    "id": "J6w7WYXCn_ND",
    "outputId": "5f556d0a-85db-4e0a-cc97-c4e6c76faa8f"
   },
   "outputs": [
    {
     "data": {
      "text/plain": [
       "[]"
      ]
     },
     "execution_count": 22,
     "metadata": {},
     "output_type": "execute_result"
    }
   ],
   "source": [
    "list_in2019_notin2018 = [item for item in disease_or_problem_2019 if item not in disease_or_problem_2018]\n",
    "list_in2019_notin2018"
   ]
  },
  {
   "cell_type": "markdown",
   "metadata": {
    "id": "Smk7LOFJpEvz"
   },
   "source": [
    "<ul>\n",
    "  <li>2017 is the only one with 'RABIA HUMANA' </li>\n",
    "  <li>2019 don`t add new deseases or problems </li>\n",
    "  <li>2018 adds 'DIFTERIA','FIEBRE AMARILLA','SARAMPION' and 'PARALISIS FLACIDA AGUDA (MENORES DE 15 AÑOS)' from 2017</li>\n",
    "  <li>2018 adds 'FIEBRE AMARILLA', 'PARALISIS FLACIDA AGUDA (MENORES DE 15 AÑOS)' from 2019</li>\n",
    "</ul>"
   ]
  },
  {
   "cell_type": "markdown",
   "metadata": {
    "id": "WyrBkyLNhQRE"
   },
   "source": [
    "# Analysis"
   ]
  },
  {
   "cell_type": "code",
   "execution_count": 23,
   "metadata": {
    "colab": {
     "base_uri": "https://localhost:8080/"
    },
    "executionInfo": {
     "elapsed": 517,
     "status": "ok",
     "timestamp": 1614640936707,
     "user": {
      "displayName": "DAVID RESTREPO",
      "photoUrl": "https://lh3.googleusercontent.com/a-/AOh14GgqxItBQRJ0dDzIdCZM0BMuA0KeTKTlKRNGMApY=s64",
      "userId": "09638303782015555303"
     },
     "user_tz": 300
    },
    "id": "k0iqZH91UU2p",
    "outputId": "77d78e88-7501-4f00-a12b-a6b269c0ed29"
   },
   "outputs": [
    {
     "data": {
      "text/plain": [
       "Nombre\n",
       "VCM VIF VSX                     23808\n",
       "VARICELA INDIVIDUAL             16536\n",
       "INTENTO DE SUICIDIO             10539\n",
       "MORBILIDAD MATERNA EXTREMA       8436\n",
       "DENGUE                           8246\n",
       "BAJO PESO AL NACER               7488\n",
       "INTOXICACION POR PLAGUICIDAS     5981\n",
       "Name: Nombre, dtype: int64"
      ]
     },
     "execution_count": 23,
     "metadata": {},
     "output_type": "execute_result"
    }
   ],
   "source": [
    "disease_2017 = df_sivigilia_2017.groupby('Nombre')['Nombre'].count().sort_values(ascending=False)[1:8]\n",
    "disease_2017"
   ]
  },
  {
   "cell_type": "code",
   "execution_count": 24,
   "metadata": {
    "colab": {
     "base_uri": "https://localhost:8080/",
     "height": 273
    },
    "executionInfo": {
     "elapsed": 779,
     "status": "ok",
     "timestamp": 1614640937212,
     "user": {
      "displayName": "DAVID RESTREPO",
      "photoUrl": "https://lh3.googleusercontent.com/a-/AOh14GgqxItBQRJ0dDzIdCZM0BMuA0KeTKTlKRNGMApY=s64",
      "userId": "09638303782015555303"
     },
     "user_tz": 300
    },
    "id": "wZzBJqSWFM5j",
    "outputId": "c9dd9c1e-733a-43c2-db53-e0d964f9c135"
   },
   "outputs": [
    {
     "data": {
      "text/plain": [
       "<BarContainer object of 7 artists>"
      ]
     },
     "execution_count": 24,
     "metadata": {},
     "output_type": "execute_result"
    },
    {
     "data": {
      "image/png": "[encoded data removed]",
      "text/plain": [
       "<Figure size 1440x288 with 1 Axes>"
      ]
     },
     "metadata": {
      "needs_background": "light"
     },
     "output_type": "display_data"
    }
   ],
   "source": [
    "plt.figure(figsize=(20,4))\n",
    "plt.ylabel('[Total cases]')\n",
    "plt.xlabel('[problem or disease]')\n",
    "plt.title('[cases by year]')\n",
    "plt.bar(disease_2017.index,disease_2017, align = 'center')\n"
   ]
  },
  {
   "cell_type": "code",
   "execution_count": 25,
   "metadata": {
    "colab": {
     "base_uri": "https://localhost:8080/"
    },
    "executionInfo": {
     "elapsed": 575,
     "status": "ok",
     "timestamp": 1614640937213,
     "user": {
      "displayName": "DAVID RESTREPO",
      "photoUrl": "https://lh3.googleusercontent.com/a-/AOh14GgqxItBQRJ0dDzIdCZM0BMuA0KeTKTlKRNGMApY=s64",
      "userId": "09638303782015555303"
     },
     "user_tz": 300
    },
    "id": "foma4-decXzS",
    "outputId": "5693e0d3-19c5-4fb3-bad5-0102767cef9e"
   },
   "outputs": [
    {
     "data": {
      "text/plain": [
       "Nombre\n",
       "VCM VIF VSX                                24695\n",
       "VARICELA INDIVIDUAL                        15656\n",
       "INTENTO DE SUICIDIO                        11228\n",
       "DENGUE                                      9851\n",
       "MORBILIDAD MATERNA EXTREMA                  8810\n",
       "BAJO PESO AL NACER                          7790\n",
       "DESNUTRICIÓN AGUDA EN MENORES DE 5 AÑOS     6957\n",
       "Name: Nombre, dtype: int64"
      ]
     },
     "execution_count": 25,
     "metadata": {},
     "output_type": "execute_result"
    }
   ],
   "source": [
    "disease_2018 = df_sivigilia_2018.groupby('Nombre')['Nombre'].count().sort_values(ascending=False)[1:8]\n",
    "disease_2018"
   ]
  },
  {
   "cell_type": "code",
   "execution_count": 26,
   "metadata": {
    "colab": {
     "base_uri": "https://localhost:8080/",
     "height": 270
    },
    "executionInfo": {
     "elapsed": 1287,
     "status": "ok",
     "timestamp": 1614640938166,
     "user": {
      "displayName": "DAVID RESTREPO",
      "photoUrl": "https://lh3.googleusercontent.com/a-/AOh14GgqxItBQRJ0dDzIdCZM0BMuA0KeTKTlKRNGMApY=s64",
      "userId": "09638303782015555303"
     },
     "user_tz": 300
    },
    "id": "EkNf1KDePD_1",
    "outputId": "55e28365-19c3-44b8-9573-2ce80c0af2e8"
   },
   "outputs": [
    {
     "data": {
      "text/plain": [
       "<BarContainer object of 7 artists>"
      ]
     },
     "execution_count": 26,
     "metadata": {},
     "output_type": "execute_result"
    },
    {
     "data": {
      "image/png": "[encoded data removed]",
      "text/plain": [
       "<Figure size 1440x288 with 1 Axes>"
      ]
     },
     "metadata": {
      "needs_background": "light"
     },
     "output_type": "display_data"
    }
   ],
   "source": [
    "plt.figure(figsize=(20,4))\n",
    "plt.ylabel('[Total cases]')\n",
    "plt.xlabel('[problem or disease]')\n",
    "plt.title('[cases by year]')\n",
    "plt.bar(disease_2018.index,disease_2018, align = 'center')\n"
   ]
  },
  {
   "cell_type": "code",
   "execution_count": 27,
   "metadata": {
    "colab": {
     "base_uri": "https://localhost:8080/"
    },
    "executionInfo": {
     "elapsed": 1365,
     "status": "ok",
     "timestamp": 1614640938478,
     "user": {
      "displayName": "DAVID RESTREPO",
      "photoUrl": "https://lh3.googleusercontent.com/a-/AOh14GgqxItBQRJ0dDzIdCZM0BMuA0KeTKTlKRNGMApY=s64",
      "userId": "09638303782015555303"
     },
     "user_tz": 300
    },
    "id": "YTsx84AKfk6Y",
    "outputId": "a0f63cdc-d58e-4154-b949-a9121192673c"
   },
   "outputs": [
    {
     "data": {
      "text/plain": [
       "Nombre\n",
       "VCM VIF VSX                                25073\n",
       "DENGUE                                     17636\n",
       "VARICELA INDIVIDUAL                        14818\n",
       "INTENTO DE SUICIDIO                        11903\n",
       "MORBILIDAD MATERNA EXTREMA                  8558\n",
       "DESNUTRICIÓN AGUDA EN MENORES DE 5 AÑOS     7591\n",
       "BAJO PESO AL NACER                          7381\n",
       "Name: Nombre, dtype: int64"
      ]
     },
     "execution_count": 27,
     "metadata": {},
     "output_type": "execute_result"
    }
   ],
   "source": [
    "disease_2019 = df_sivigilia_2019.groupby('Nombre')['Nombre'].count().sort_values(ascending=False)[1:8]\n",
    "disease_2019"
   ]
  },
  {
   "cell_type": "code",
   "execution_count": 29,
   "metadata": {
    "colab": {
     "base_uri": "https://localhost:8080/",
     "height": 366
    },
    "executionInfo": {
     "elapsed": 1064,
     "status": "ok",
     "timestamp": 1614640938479,
     "user": {
      "displayName": "DAVID RESTREPO",
      "photoUrl": "https://lh3.googleusercontent.com/a-/AOh14GgqxItBQRJ0dDzIdCZM0BMuA0KeTKTlKRNGMApY=s64",
      "userId": "09638303782015555303"
     },
     "user_tz": 300
    },
    "id": "Epp4JygLMs3C",
    "outputId": "b8c4b8b0-1a4a-4749-9786-f545b9a022b5"
   },
   "outputs": [
    {
     "data": {
      "text/plain": [
       "<BarContainer object of 7 artists>"
      ]
     },
     "execution_count": 29,
     "metadata": {},
     "output_type": "execute_result"
    },
    {
     "data": {
      "image/png": "[encoded data removed]",
      "text/plain": [
       "<Figure size 1440x432 with 1 Axes>"
      ]
     },
     "metadata": {
      "needs_background": "light"
     },
     "output_type": "display_data"
    }
   ],
   "source": [
    "plt.figure(figsize=(20,6))\n",
    "plt.ylabel('[Total cases]')\n",
    "plt.xlabel('[problem or disease]')\n",
    "plt.title('[cases by year]')\n",
    "plt.xticks(rotation=90)\n",
    "plt.bar(disease_2019.index,disease_2019, align = 'center')\n"
   ]
  },
  {
   "cell_type": "markdown",
   "metadata": {
    "id": "2tF91aTc3cb6"
   },
   "source": [
    "# Analysis of nutrition data"
   ]
  },
  {
   "cell_type": "code",
   "execution_count": 28,
   "metadata": {
    "colab": {
     "base_uri": "https://localhost:8080/"
    },
    "executionInfo": {
     "elapsed": 384,
     "status": "ok",
     "timestamp": 1614640938480,
     "user": {
      "displayName": "DAVID RESTREPO",
      "photoUrl": "https://lh3.googleusercontent.com/a-/AOh14GgqxItBQRJ0dDzIdCZM0BMuA0KeTKTlKRNGMApY=s64",
      "userId": "09638303782015555303"
     },
     "user_tz": 300
    },
    "id": "bfSh2i3lfk-T",
    "outputId": "2529a627-eeeb-48d9-d4b3-b61ea77401a4"
   },
   "outputs": [
    {
     "data": {
      "text/plain": [
       "['MORTALIDAD POR DESNUTRICIÓN', 'DESNUTRICIÓN AGUDA EN MENORES DE 5 AÑOS']"
      ]
     },
     "execution_count": 28,
     "metadata": {},
     "output_type": "execute_result"
    }
   ],
   "source": [
    "problems = []\n",
    "for problem in disease_or_problem_2017:\n",
    "  if \"NUT\" in problem or \"OBESI\" in problem:\n",
    "    problems.append(problem)\n",
    "problems"
   ]
  },
  {
   "cell_type": "code",
   "execution_count": 29,
   "metadata": {
    "id": "dEh-eS5V4dcS"
   },
   "outputs": [],
   "source": [
    "df_sivigilia_2017_nutricion = df_sivigilia_2017[df_sivigilia_2017['Nombre'] == problems[0]]\n",
    "df_sivigilia_2017_nutricion = df_sivigilia_2017_nutricion.append(df_sivigilia_2017[df_sivigilia_2017['Nombre'] == problems[1]])\n",
    "\n",
    "df_sivigilia_2018_nutricion = df_sivigilia_2018[df_sivigilia_2018['Nombre'] == problems[0]]\n",
    "df_sivigilia_2018_nutricion = df_sivigilia_2018_nutricion.append(df_sivigilia_2018[df_sivigilia_2018['Nombre'] == problems[1]])\n",
    "\n",
    "df_sivigilia_2019_nutricion = df_sivigilia_2019[df_sivigilia_2019['Nombre'] == problems[0]]\n",
    "df_sivigilia_2019_nutricion = df_sivigilia_2019_nutricion.append(df_sivigilia_2019[df_sivigilia_2019['Nombre'] == problems[1]])"
   ]
  },
  {
   "cell_type": "markdown",
   "metadata": {
    "id": "yBtBe6iW31CO"
   },
   "source": [
    "# changes on time:"
   ]
  },
  {
   "cell_type": "code",
   "execution_count": 30,
   "metadata": {
    "colab": {
     "base_uri": "https://localhost:8080/",
     "height": 638
    },
    "executionInfo": {
     "elapsed": 1693,
     "status": "ok",
     "timestamp": 1614640940517,
     "user": {
      "displayName": "DAVID RESTREPO",
      "photoUrl": "https://lh3.googleusercontent.com/a-/AOh14GgqxItBQRJ0dDzIdCZM0BMuA0KeTKTlKRNGMApY=s64",
      "userId": "09638303782015555303"
     },
     "user_tz": 300
    },
    "id": "y8aYw_IkflCc",
    "outputId": "ae19170b-1b2d-4460-d65d-4fdc851f3274"
   },
   "outputs": [
    {
     "data": {
      "text/plain": [
       "<AxesSubplot:title={'center':'[cases by year]'}, xlabel='[problem or disease]', ylabel='[Total cases]'>"
      ]
     },
     "execution_count": 30,
     "metadata": {},
     "output_type": "execute_result"
    },
    {
     "data": {
      "image/png": "[encoded data removed]",
      "text/plain": [
       "<Figure size 1080x720 with 1 Axes>"
      ]
     },
     "metadata": {
      "needs_background": "light"
     },
     "output_type": "display_data"
    }
   ],
   "source": [
    "plt.figure(figsize=(15,10))\n",
    "plt.ylabel('[Total cases]')\n",
    "plt.xlabel('[problem or disease]')\n",
    "plt.title('[cases by year]')\n",
    "df_sivigilia_2019_nutricion['Nombre'].hist(bins=90, label = 'cases in 2019')\n",
    "df_sivigilia_2018_nutricion['Nombre'].hist(bins=90, label = 'cases in 2018')\n",
    "df_sivigilia_2017_nutricion['Nombre'].hist(bins=90, label = 'cases in 2017')"
   ]
  },
  {
   "cell_type": "markdown",
   "metadata": {
    "id": "ONJSIGAP37Vh"
   },
   "source": [
    "## nutrition data of 2017"
   ]
  },
  {
   "cell_type": "code",
   "execution_count": 31,
   "metadata": {
    "colab": {
     "base_uri": "https://localhost:8080/"
    },
    "executionInfo": {
     "elapsed": 1313,
     "status": "ok",
     "timestamp": 1614640940518,
     "user": {
      "displayName": "DAVID RESTREPO",
      "photoUrl": "https://lh3.googleusercontent.com/a-/AOh14GgqxItBQRJ0dDzIdCZM0BMuA0KeTKTlKRNGMApY=s64",
      "userId": "09638303782015555303"
     },
     "user_tz": 300
    },
    "id": "06BwlhQKflGS",
    "outputId": "d72e347f-6274-4a13-86c0-d5b145e4774f"
   },
   "outputs": [
    {
     "data": {
      "text/plain": [
       "Nombre\n",
       "DESNUTRICIÓN AGUDA EN MENORES DE 5 AÑOS    5336\n",
       "MORTALIDAD POR DESNUTRICIÓN                 203\n",
       "Name: nom_mun, dtype: int64"
      ]
     },
     "execution_count": 31,
     "metadata": {},
     "output_type": "execute_result"
    }
   ],
   "source": [
    "disease_2017 = df_sivigilia_2017_nutricion.groupby('Nombre')['nom_mun'].count().sort_values(ascending=False)\n",
    "disease_2017"
   ]
  },
  {
   "cell_type": "code",
   "execution_count": 32,
   "metadata": {
    "colab": {
     "base_uri": "https://localhost:8080/"
    },
    "executionInfo": {
     "elapsed": 1052,
     "status": "ok",
     "timestamp": 1614640940519,
     "user": {
      "displayName": "DAVID RESTREPO",
      "photoUrl": "https://lh3.googleusercontent.com/a-/AOh14GgqxItBQRJ0dDzIdCZM0BMuA0KeTKTlKRNGMApY=s64",
      "userId": "09638303782015555303"
     },
     "user_tz": 300
    },
    "id": "jxA1p8mnflK_",
    "outputId": "b9d3a888-8c9c-4a37-b433-d45f61dd917c"
   },
   "outputs": [
    {
     "name": "stdout",
     "output_type": "stream",
     "text": [
      "the total cases in 2017 were : 10641\n"
     ]
    }
   ],
   "source": [
    "index = df_sivigilia_2017.conteo_casos[df_sivigilia_2017.Nombre == 'DESNUTRICIÓN AGUDA EN MENORES DE 5 AÑOS']\n",
    "total_less_5 = index[index != 1].sum() - len(index[index != 1]) + disease_2017[0]\n",
    "print(f'the total cases in 2017 were : {total_less_5}')"
   ]
  },
  {
   "cell_type": "code",
   "execution_count": 33,
   "metadata": {
    "colab": {
     "base_uri": "https://localhost:8080/"
    },
    "executionInfo": {
     "elapsed": 753,
     "status": "ok",
     "timestamp": 1614640940519,
     "user": {
      "displayName": "DAVID RESTREPO",
      "photoUrl": "https://lh3.googleusercontent.com/a-/AOh14GgqxItBQRJ0dDzIdCZM0BMuA0KeTKTlKRNGMApY=s64",
      "userId": "09638303782015555303"
     },
     "user_tz": 300
    },
    "id": "Q4qYXM-7k2A-",
    "outputId": "29d1a7cb-9348-4b9b-d132-0b8e881ff6d9"
   },
   "outputs": [
    {
     "name": "stdout",
     "output_type": "stream",
     "text": [
      "the total cases in 2017 were : 205\n"
     ]
    }
   ],
   "source": [
    "index = df_sivigilia_2017.conteo_casos[df_sivigilia_2017.Nombre == 'MORTALIDAD POR DESNUTRICIÓN']\n",
    "total_adult = index[index != 1].sum() - len(index[index != 1]) + disease_2017[1]\n",
    "print(f'the total cases in 2017 were : {total_adult}')"
   ]
  },
  {
   "cell_type": "markdown",
   "metadata": {
    "id": "qrEhDYp_4FEz"
   },
   "source": [
    "## nutrition data of 2018"
   ]
  },
  {
   "cell_type": "code",
   "execution_count": 34,
   "metadata": {
    "colab": {
     "base_uri": "https://localhost:8080/"
    },
    "executionInfo": {
     "elapsed": 584,
     "status": "ok",
     "timestamp": 1614640940738,
     "user": {
      "displayName": "DAVID RESTREPO",
      "photoUrl": "https://lh3.googleusercontent.com/a-/AOh14GgqxItBQRJ0dDzIdCZM0BMuA0KeTKTlKRNGMApY=s64",
      "userId": "09638303782015555303"
     },
     "user_tz": 300
    },
    "id": "mn4Gl54Z7-hS",
    "outputId": "fb76b812-42d9-4a1e-c34f-782eb95c7184"
   },
   "outputs": [
    {
     "data": {
      "text/plain": [
       "Nombre\n",
       "DESNUTRICIÓN AGUDA EN MENORES DE 5 AÑOS    6957\n",
       "MORTALIDAD POR DESNUTRICIÓN                 237\n",
       "Name: nom_mun, dtype: int64"
      ]
     },
     "execution_count": 34,
     "metadata": {},
     "output_type": "execute_result"
    }
   ],
   "source": [
    "disease_2018 = df_sivigilia_2018_nutricion.groupby('Nombre')['nom_mun'].count().sort_values(ascending=False)\n",
    "disease_2018"
   ]
  },
  {
   "cell_type": "code",
   "execution_count": 35,
   "metadata": {
    "colab": {
     "base_uri": "https://localhost:8080/"
    },
    "executionInfo": {
     "elapsed": 545,
     "status": "ok",
     "timestamp": 1614640940948,
     "user": {
      "displayName": "DAVID RESTREPO",
      "photoUrl": "https://lh3.googleusercontent.com/a-/AOh14GgqxItBQRJ0dDzIdCZM0BMuA0KeTKTlKRNGMApY=s64",
      "userId": "09638303782015555303"
     },
     "user_tz": 300
    },
    "id": "-SkAMDeh8GOY",
    "outputId": "4c239027-3b22-4b4d-d9d0-aadde67656be"
   },
   "outputs": [
    {
     "name": "stdout",
     "output_type": "stream",
     "text": [
      "the total cases in 2018 were : 15386\n"
     ]
    }
   ],
   "source": [
    "index = df_sivigilia_2018.conteo_casos[df_sivigilia_2018.Nombre == 'DESNUTRICIÓN AGUDA EN MENORES DE 5 AÑOS']\n",
    "total_less_5 = index[index != 1].sum() - len(index[index != 1]) + disease_2018[0]\n",
    "print(f'the total cases in 2018 were : {total_less_5}')"
   ]
  },
  {
   "cell_type": "code",
   "execution_count": 36,
   "metadata": {
    "colab": {
     "base_uri": "https://localhost:8080/"
    },
    "executionInfo": {
     "elapsed": 707,
     "status": "ok",
     "timestamp": 1614640941335,
     "user": {
      "displayName": "DAVID RESTREPO",
      "photoUrl": "https://lh3.googleusercontent.com/a-/AOh14GgqxItBQRJ0dDzIdCZM0BMuA0KeTKTlKRNGMApY=s64",
      "userId": "09638303782015555303"
     },
     "user_tz": 300
    },
    "id": "Qf5wIR3b3Msf",
    "outputId": "7316df25-7bb9-4e54-f2a7-e53124d738f0"
   },
   "outputs": [
    {
     "name": "stdout",
     "output_type": "stream",
     "text": [
      "the total cases in 2017 were : 264\n"
     ]
    }
   ],
   "source": [
    "index = df_sivigilia_2018.conteo_casos[df_sivigilia_2018.Nombre == 'MORTALIDAD POR DESNUTRICIÓN']\n",
    "total_adult = index[index != 1].sum() - len(index[index != 1]) + disease_2018[1]\n",
    "print(f'the total cases in 2017 were : {total_adult}')"
   ]
  },
  {
   "cell_type": "markdown",
   "metadata": {
    "id": "5TDcK9xP4KUf"
   },
   "source": [
    "## nutrition data of 2019"
   ]
  },
  {
   "cell_type": "code",
   "execution_count": 37,
   "metadata": {
    "colab": {
     "base_uri": "https://localhost:8080/"
    },
    "executionInfo": {
     "elapsed": 504,
     "status": "ok",
     "timestamp": 1614640941651,
     "user": {
      "displayName": "DAVID RESTREPO",
      "photoUrl": "https://lh3.googleusercontent.com/a-/AOh14GgqxItBQRJ0dDzIdCZM0BMuA0KeTKTlKRNGMApY=s64",
      "userId": "09638303782015555303"
     },
     "user_tz": 300
    },
    "id": "NPEq69kU3Vep",
    "outputId": "657c37a7-bcdd-4812-e4c9-a08ef5d08754"
   },
   "outputs": [
    {
     "data": {
      "text/plain": [
       "Nombre\n",
       "DESNUTRICIÓN AGUDA EN MENORES DE 5 AÑOS    7591\n",
       "MORTALIDAD POR DESNUTRICIÓN                 248\n",
       "Name: nom_mun, dtype: int64"
      ]
     },
     "execution_count": 37,
     "metadata": {},
     "output_type": "execute_result"
    }
   ],
   "source": [
    "disease_2019 = df_sivigilia_2019_nutricion.groupby('Nombre')['nom_mun'].count().sort_values(ascending=False)\n",
    "disease_2019"
   ]
  },
  {
   "cell_type": "code",
   "execution_count": 38,
   "metadata": {
    "colab": {
     "base_uri": "https://localhost:8080/"
    },
    "executionInfo": {
     "elapsed": 576,
     "status": "ok",
     "timestamp": 1614640941887,
     "user": {
      "displayName": "DAVID RESTREPO",
      "photoUrl": "https://lh3.googleusercontent.com/a-/AOh14GgqxItBQRJ0dDzIdCZM0BMuA0KeTKTlKRNGMApY=s64",
      "userId": "09638303782015555303"
     },
     "user_tz": 300
    },
    "id": "mB6Cof9i4RiP",
    "outputId": "d2d099c3-00dc-4133-a635-5cfe0d70f80f"
   },
   "outputs": [
    {
     "name": "stdout",
     "output_type": "stream",
     "text": [
      "the total cases in 2018 were : 17693\n"
     ]
    }
   ],
   "source": [
    "index = df_sivigilia_2019.conteo_casos[df_sivigilia_2019.Nombre == 'DESNUTRICIÓN AGUDA EN MENORES DE 5 AÑOS']\n",
    "total_less_5 = index[index != 1].sum() - len(index[index != 1]) + disease_2019[0]\n",
    "print(f'the total cases in 2018 were : {total_less_5}')"
   ]
  },
  {
   "cell_type": "code",
   "execution_count": 39,
   "metadata": {
    "colab": {
     "base_uri": "https://localhost:8080/"
    },
    "executionInfo": {
     "elapsed": 498,
     "status": "ok",
     "timestamp": 1614640942081,
     "user": {
      "displayName": "DAVID RESTREPO",
      "photoUrl": "https://lh3.googleusercontent.com/a-/AOh14GgqxItBQRJ0dDzIdCZM0BMuA0KeTKTlKRNGMApY=s64",
      "userId": "09638303782015555303"
     },
     "user_tz": 300
    },
    "id": "LPNQFrSY4amX",
    "outputId": "0c1d41ac-eba8-44fb-cccb-22f3d9399119"
   },
   "outputs": [
    {
     "name": "stdout",
     "output_type": "stream",
     "text": [
      "the total cases in 2017 were : 263\n"
     ]
    }
   ],
   "source": [
    "index = df_sivigilia_2019.conteo_casos[df_sivigilia_2019.Nombre == 'MORTALIDAD POR DESNUTRICIÓN']\n",
    "total_adult = index[index != 1].sum() - len(index[index != 1]) + disease_2019[1]\n",
    "print(f'the total cases in 2017 were : {total_adult}')"
   ]
  },
  {
   "cell_type": "markdown",
   "metadata": {
    "id": "WACWbY8D8GSr"
   },
   "source": [
    "# Analysis of nutrition by department"
   ]
  },
  {
   "cell_type": "markdown",
   "metadata": {
    "id": "MQ80BzSK8Mmk"
   },
   "source": [
    "## 2017"
   ]
  },
  {
   "cell_type": "code",
   "execution_count": 40,
   "metadata": {
    "colab": {
     "base_uri": "https://localhost:8080/"
    },
    "executionInfo": {
     "elapsed": 671,
     "status": "ok",
     "timestamp": 1614640942852,
     "user": {
      "displayName": "DAVID RESTREPO",
      "photoUrl": "https://lh3.googleusercontent.com/a-/AOh14GgqxItBQRJ0dDzIdCZM0BMuA0KeTKTlKRNGMApY=s64",
      "userId": "09638303782015555303"
     },
     "user_tz": 300
    },
    "id": "Z6xn-adW4lGW",
    "outputId": "e1dffa47-00d7-440b-9eb3-c64bb690d21c"
   },
   "outputs": [
    {
     "data": {
      "text/plain": [
       "nom_mun\n",
       "CALI                     52\n",
       "BOGOTA                   52\n",
       "RIOHACHA                 52\n",
       "MEDELLIN                 52\n",
       "URIBIA                   52\n",
       "MAICAO                   51\n",
       "SOACHA                   49\n",
       "MANAURE                  48\n",
       "NEIVA                    48\n",
       "VALLEDUPAR               46\n",
       "MONTERIA                 44\n",
       "CUCUTA                   44\n",
       "CUMARIBO                 44\n",
       "SAN JOSE DEL GUAVIARE    42\n",
       "ARMENIA                  42\n",
       "Name: Nombre, dtype: int64"
      ]
     },
     "execution_count": 40,
     "metadata": {},
     "output_type": "execute_result"
    }
   ],
   "source": [
    "df_sivigilia_2017_nutricion_less5 = df_sivigilia_2017_nutricion[df_sivigilia_2017_nutricion.Nombre == \"DESNUTRICIÓN AGUDA EN MENORES DE 5 AÑOS\"]\n",
    "df_sivigilia_2017_nutricion_less5 = df_sivigilia_2017_nutricion_less5.groupby('nom_mun')['Nombre'].count().sort_values(ascending=False)[0:15]\n",
    "df_sivigilia_2017_nutricion_less5"
   ]
  },
  {
   "cell_type": "code",
   "execution_count": 41,
   "metadata": {
    "colab": {
     "base_uri": "https://localhost:8080/",
     "height": 383
    },
    "executionInfo": {
     "elapsed": 1189,
     "status": "ok",
     "timestamp": 1614640943590,
     "user": {
      "displayName": "DAVID RESTREPO",
      "photoUrl": "https://lh3.googleusercontent.com/a-/AOh14GgqxItBQRJ0dDzIdCZM0BMuA0KeTKTlKRNGMApY=s64",
      "userId": "09638303782015555303"
     },
     "user_tz": 300
    },
    "id": "TteC1aVD58RF",
    "outputId": "96f51e6a-fc84-45d3-f436-c34b028900ea"
   },
   "outputs": [
    {
     "data": {
      "text/plain": [
       "<BarContainer object of 15 artists>"
      ]
     },
     "execution_count": 41,
     "metadata": {},
     "output_type": "execute_result"
    },
    {
     "data": {
      "image/png": "[encoded data removed]",
      "text/plain": [
       "<Figure size 1800x576 with 1 Axes>"
      ]
     },
     "metadata": {
      "needs_background": "light"
     },
     "output_type": "display_data"
    }
   ],
   "source": [
    "plt.figure(figsize=(25,8))\n",
    "plt.ylabel('[Total cases]')\n",
    "plt.xlabel('[departament]')\n",
    "plt.title('[cases by departament]')\n",
    "plt.bar(df_sivigilia_2017_nutricion_less5.index,df_sivigilia_2017_nutricion_less5, align = 'center')\n"
   ]
  },
  {
   "cell_type": "code",
   "execution_count": 42,
   "metadata": {
    "id": "SQN-5Grw5IZx"
   },
   "outputs": [],
   "source": [
    "df_sivigilia_2017_nutricion_general = df_sivigilia_2017_nutricion[df_sivigilia_2017_nutricion.Nombre == \"MORTALIDAD POR DESNUTRICIÓN\"]\n",
    "df_sivigilia_2017_nutricion_general = df_sivigilia_2017_nutricion_general.groupby('nom_mun')['Nombre'].count().sort_values(ascending=False)[0:15]"
   ]
  },
  {
   "cell_type": "code",
   "execution_count": 43,
   "metadata": {
    "colab": {
     "base_uri": "https://localhost:8080/",
     "height": 384
    },
    "executionInfo": {
     "elapsed": 1218,
     "status": "ok",
     "timestamp": 1614640944044,
     "user": {
      "displayName": "DAVID RESTREPO",
      "photoUrl": "https://lh3.googleusercontent.com/a-/AOh14GgqxItBQRJ0dDzIdCZM0BMuA0KeTKTlKRNGMApY=s64",
      "userId": "09638303782015555303"
     },
     "user_tz": 300
    },
    "id": "y9kZSTgh5v3R",
    "outputId": "05be3c94-3cb9-4502-aa75-9811e0261f78"
   },
   "outputs": [
    {
     "data": {
      "text/plain": [
       "<BarContainer object of 15 artists>"
      ]
     },
     "execution_count": 43,
     "metadata": {},
     "output_type": "execute_result"
    },
    {
     "data": {
      "image/png": "[encoded data removed]",
      "text/plain": [
       "<Figure size 1800x576 with 1 Axes>"
      ]
     },
     "metadata": {
      "needs_background": "light"
     },
     "output_type": "display_data"
    }
   ],
   "source": [
    "plt.figure(figsize=(25,8))\n",
    "plt.ylabel('[Total cases]')\n",
    "plt.xlabel('[departament]')\n",
    "plt.title('[cases by departament]')\n",
    "plt.bar(df_sivigilia_2017_nutricion_general.index,df_sivigilia_2017_nutricion_general, align = 'center')"
   ]
  },
  {
   "cell_type": "markdown",
   "metadata": {
    "id": "T_seKxJB8S4M"
   },
   "source": [
    "## 2018"
   ]
  },
  {
   "cell_type": "code",
   "execution_count": 44,
   "metadata": {
    "colab": {
     "base_uri": "https://localhost:8080/"
    },
    "executionInfo": {
     "elapsed": 814,
     "status": "ok",
     "timestamp": 1614640944045,
     "user": {
      "displayName": "DAVID RESTREPO",
      "photoUrl": "https://lh3.googleusercontent.com/a-/AOh14GgqxItBQRJ0dDzIdCZM0BMuA0KeTKTlKRNGMApY=s64",
      "userId": "09638303782015555303"
     },
     "user_tz": 300
    },
    "id": "LyRmgPqs7pFs",
    "outputId": "4bf8d2fc-c609-49a3-8ef3-6c6c997315bf"
   },
   "outputs": [
    {
     "data": {
      "text/plain": [
       "nom_mun\n",
       "CALI                  52\n",
       "MEDELLIN              52\n",
       "NEIVA                 52\n",
       "BOGOTA                52\n",
       "URIBIA                52\n",
       "MAICAO                51\n",
       "MANAURE               51\n",
       "RIOHACHA              51\n",
       "VALLEDUPAR            50\n",
       "EXTERIOR_VENEZUELA    50\n",
       "YOPAL                 49\n",
       "MONTERIA              49\n",
       "SOACHA                49\n",
       "BELLO                 47\n",
       "CUCUTA                47\n",
       "Name: Nombre, dtype: int64"
      ]
     },
     "execution_count": 44,
     "metadata": {},
     "output_type": "execute_result"
    }
   ],
   "source": [
    "df_sivigilia_2018_nutricion_less5 = df_sivigilia_2018_nutricion[df_sivigilia_2018_nutricion.Nombre == \"DESNUTRICIÓN AGUDA EN MENORES DE 5 AÑOS\"]\n",
    "df_sivigilia_2018_nutricion_less5 = df_sivigilia_2018_nutricion_less5.groupby('nom_mun')['Nombre'].count().sort_values(ascending=False)[0:15]\n",
    "df_sivigilia_2018_nutricion_less5"
   ]
  },
  {
   "cell_type": "code",
   "execution_count": 45,
   "metadata": {
    "colab": {
     "base_uri": "https://localhost:8080/",
     "height": 384
    },
    "executionInfo": {
     "elapsed": 1016,
     "status": "ok",
     "timestamp": 1614640944505,
     "user": {
      "displayName": "DAVID RESTREPO",
      "photoUrl": "https://lh3.googleusercontent.com/a-/AOh14GgqxItBQRJ0dDzIdCZM0BMuA0KeTKTlKRNGMApY=s64",
      "userId": "09638303782015555303"
     },
     "user_tz": 300
    },
    "id": "SsVQyztm8eKr",
    "outputId": "efa28518-a94d-4ee7-ca0d-4c3be9e3d0db"
   },
   "outputs": [
    {
     "data": {
      "text/plain": [
       "<BarContainer object of 15 artists>"
      ]
     },
     "execution_count": 45,
     "metadata": {},
     "output_type": "execute_result"
    },
    {
     "data": {
      "image/png": "[encoded data removed]",
      "text/plain": [
       "<Figure size 1800x576 with 1 Axes>"
      ]
     },
     "metadata": {
      "needs_background": "light"
     },
     "output_type": "display_data"
    }
   ],
   "source": [
    "plt.figure(figsize=(25,8))\n",
    "plt.ylabel('[Total cases]')\n",
    "plt.xlabel('[departament]')\n",
    "plt.title('[cases by departament]')\n",
    "plt.bar(df_sivigilia_2018_nutricion_less5.index,df_sivigilia_2018_nutricion_less5, align = 'center')\n"
   ]
  },
  {
   "cell_type": "code",
   "execution_count": 46,
   "metadata": {
    "id": "ttXvfx8S8mc3"
   },
   "outputs": [],
   "source": [
    "df_sivigilia_2018_nutricion_general = df_sivigilia_2018_nutricion[df_sivigilia_2018_nutricion.Nombre == \"MORTALIDAD POR DESNUTRICIÓN\"]\n",
    "df_sivigilia_2018_nutricion_general = df_sivigilia_2018_nutricion_general.groupby('nom_mun')['Nombre'].count().sort_values(ascending=False)[0:15]"
   ]
  },
  {
   "cell_type": "code",
   "execution_count": 47,
   "metadata": {
    "colab": {
     "base_uri": "https://localhost:8080/",
     "height": 384
    },
    "executionInfo": {
     "elapsed": 945,
     "status": "ok",
     "timestamp": 1614640944900,
     "user": {
      "displayName": "DAVID RESTREPO",
      "photoUrl": "https://lh3.googleusercontent.com/a-/AOh14GgqxItBQRJ0dDzIdCZM0BMuA0KeTKTlKRNGMApY=s64",
      "userId": "09638303782015555303"
     },
     "user_tz": 300
    },
    "id": "IX0XJx03814J",
    "outputId": "35607dee-9c68-4a82-8ddd-722776483d25"
   },
   "outputs": [
    {
     "data": {
      "text/plain": [
       "<BarContainer object of 15 artists>"
      ]
     },
     "execution_count": 47,
     "metadata": {},
     "output_type": "execute_result"
    },
    {
     "data": {
      "image/png": "[encoded data removed]",
      "text/plain": [
       "<Figure size 1800x576 with 1 Axes>"
      ]
     },
     "metadata": {
      "needs_background": "light"
     },
     "output_type": "display_data"
    }
   ],
   "source": [
    "plt.figure(figsize=(25,8))\n",
    "plt.ylabel('[Total cases]')\n",
    "plt.xlabel('[departament]')\n",
    "plt.title('[cases by departament]')\n",
    "plt.bar(df_sivigilia_2018_nutricion_general.index,df_sivigilia_2018_nutricion_general, align = 'center')"
   ]
  },
  {
   "cell_type": "markdown",
   "metadata": {
    "id": "DJ0PzeoC9AFf"
   },
   "source": [
    "## 2019"
   ]
  },
  {
   "cell_type": "code",
   "execution_count": 48,
   "metadata": {
    "colab": {
     "base_uri": "https://localhost:8080/"
    },
    "executionInfo": {
     "elapsed": 512,
     "status": "ok",
     "timestamp": 1614640944902,
     "user": {
      "displayName": "DAVID RESTREPO",
      "photoUrl": "https://lh3.googleusercontent.com/a-/AOh14GgqxItBQRJ0dDzIdCZM0BMuA0KeTKTlKRNGMApY=s64",
      "userId": "09638303782015555303"
     },
     "user_tz": 300
    },
    "id": "K4jNFXbp87uL",
    "outputId": "73b8f868-616f-4a17-f19a-49883f8412c4"
   },
   "outputs": [
    {
     "data": {
      "text/plain": [
       "nom_mun\n",
       "CALI                  52\n",
       "VALLEDUPAR            52\n",
       "RIOHACHA              52\n",
       "EXTERIOR_VENEZUELA    52\n",
       "MAICAO                52\n",
       "MEDELLIN              52\n",
       "BOGOTA                52\n",
       "URIBIA                52\n",
       "CUCUTA                51\n",
       "NEIVA                 51\n",
       "SOACHA                51\n",
       "MANAURE               50\n",
       "TUMACO                50\n",
       "BARRANQUILLA          50\n",
       "MONTERIA              50\n",
       "Name: Nombre, dtype: int64"
      ]
     },
     "execution_count": 48,
     "metadata": {},
     "output_type": "execute_result"
    }
   ],
   "source": [
    "df_sivigilia_2019_nutricion_less5 = df_sivigilia_2019_nutricion[df_sivigilia_2019_nutricion.Nombre == \"DESNUTRICIÓN AGUDA EN MENORES DE 5 AÑOS\"]\n",
    "df_sivigilia_2019_nutricion_less5 = df_sivigilia_2019_nutricion_less5.groupby('nom_mun')['Nombre'].count().sort_values(ascending=False)[0:15]\n",
    "df_sivigilia_2019_nutricion_less5"
   ]
  },
  {
   "cell_type": "code",
   "execution_count": 49,
   "metadata": {
    "colab": {
     "base_uri": "https://localhost:8080/",
     "height": 384
    },
    "executionInfo": {
     "elapsed": 917,
     "status": "ok",
     "timestamp": 1614640945533,
     "user": {
      "displayName": "DAVID RESTREPO",
      "photoUrl": "https://lh3.googleusercontent.com/a-/AOh14GgqxItBQRJ0dDzIdCZM0BMuA0KeTKTlKRNGMApY=s64",
      "userId": "09638303782015555303"
     },
     "user_tz": 300
    },
    "id": "2WWvu2VO9JFW",
    "outputId": "c9109001-c5ab-4f91-b494-60f991051525"
   },
   "outputs": [
    {
     "data": {
      "text/plain": [
       "<BarContainer object of 15 artists>"
      ]
     },
     "execution_count": 49,
     "metadata": {},
     "output_type": "execute_result"
    },
    {
     "data": {
      "image/png": "[encoded data removed]",
      "text/plain": [
       "<Figure size 1800x576 with 1 Axes>"
      ]
     },
     "metadata": {
      "needs_background": "light"
     },
     "output_type": "display_data"
    }
   ],
   "source": [
    "plt.figure(figsize=(25,8))\n",
    "plt.ylabel('[Total cases]')\n",
    "plt.xlabel('[departament]')\n",
    "plt.title('[cases by departament]')\n",
    "plt.bar(df_sivigilia_2019_nutricion_less5.index,df_sivigilia_2019_nutricion_less5, align = 'center')"
   ]
  },
  {
   "cell_type": "code",
   "execution_count": 50,
   "metadata": {
    "id": "pjBkLOXa9Pp6"
   },
   "outputs": [],
   "source": [
    "df_sivigilia_2019_nutricion_general = df_sivigilia_2019_nutricion[df_sivigilia_2019_nutricion.Nombre == \"MORTALIDAD POR DESNUTRICIÓN\"]\n",
    "df_sivigilia_2019_nutricion_general = df_sivigilia_2019_nutricion_general.groupby('nom_mun')['Nombre'].count().sort_values(ascending=False)[0:15]"
   ]
  },
  {
   "cell_type": "code",
   "execution_count": 51,
   "metadata": {
    "colab": {
     "base_uri": "https://localhost:8080/",
     "height": 384
    },
    "executionInfo": {
     "elapsed": 1120,
     "status": "ok",
     "timestamp": 1614640946192,
     "user": {
      "displayName": "DAVID RESTREPO",
      "photoUrl": "https://lh3.googleusercontent.com/a-/AOh14GgqxItBQRJ0dDzIdCZM0BMuA0KeTKTlKRNGMApY=s64",
      "userId": "09638303782015555303"
     },
     "user_tz": 300
    },
    "id": "1_Tt09io9dgM",
    "outputId": "ee55829b-616b-4ab3-e304-a31afb98e0f1"
   },
   "outputs": [
    {
     "data": {
      "text/plain": [
       "<BarContainer object of 15 artists>"
      ]
     },
     "execution_count": 51,
     "metadata": {},
     "output_type": "execute_result"
    },
    {
     "data": {
      "image/png": "[encoded data removed]",
      "text/plain": [
       "<Figure size 1800x576 with 1 Axes>"
      ]
     },
     "metadata": {
      "needs_background": "light"
     },
     "output_type": "display_data"
    }
   ],
   "source": [
    "plt.figure(figsize=(25,8))\n",
    "plt.ylabel('[Total cases]')\n",
    "plt.xlabel('[departament]')\n",
    "plt.title('[cases by departament]')\n",
    "plt.bar(df_sivigilia_2019_nutricion_general.index,df_sivigilia_2019_nutricion_general, align = 'center')"
   ]
  },
  {
   "cell_type": "code",
   "execution_count": null,
   "metadata": {
    "id": "f4mO6hcc9op-"
   },
   "outputs": [],
   "source": []
  },
  {
   "cell_type": "code",
   "execution_count": null,
   "metadata": {},
   "outputs": [],
   "source": []
  }
 ],
 "metadata": {
  "colab": {
   "authorship_tag": "ABX9TyMTFg0IcXE+0zrUeIxMqrRb",
   "collapsed_sections": [],
   "name": "sivigila.ipynb",
   "provenance": [],
   "toc_visible": true
  },
  "kernelspec": {
   "display_name": "Python 3",
   "language": "python",
   "name": "python3"
  },
  "language_info": {
   "codemirror_mode": {
    "name": "ipython",
    "version": 3
   },
   "file_extension": ".py",
   "mimetype": "text/x-python",
   "name": "python",
   "nbconvert_exporter": "python",
   "pygments_lexer": "ipython3",
   "version": "3.6.13"
  }
 },
 "nbformat": 4,
 "nbformat_minor": 1
}
