{
 "cells": [
  {
   "cell_type": "code",
   "execution_count": 1,
   "id": "82cd294d",
   "metadata": {},
   "outputs": [
    {
     "name": "stdout",
     "output_type": "stream",
     "text": [
      "Requirement already satisfied: pyunpack in /Users/davidrestrepo/opt/anaconda3/envs/SeguridadAlimentaria_py36/lib/python3.6/site-packages (0.2.2)\n",
      "Requirement already satisfied: entrypoint2 in /Users/davidrestrepo/opt/anaconda3/envs/SeguridadAlimentaria_py36/lib/python3.6/site-packages (from pyunpack) (0.2.4)\n",
      "Requirement already satisfied: easyprocess in /Users/davidrestrepo/opt/anaconda3/envs/SeguridadAlimentaria_py36/lib/python3.6/site-packages (from pyunpack) (0.3)\n",
      "Requirement already satisfied: patool in /Users/davidrestrepo/opt/anaconda3/envs/SeguridadAlimentaria_py36/lib/python3.6/site-packages (1.12)\n"
     ]
    }
   ],
   "source": [
    "!pip install pyunpack\n",
    "!pip install patool"
   ]
  },
  {
   "cell_type": "code",
   "execution_count": 1,
   "id": "3394610b",
   "metadata": {},
   "outputs": [],
   "source": [
    "from pyunpack import Archive\n",
    "import tarfile"
   ]
  },
  {
   "cell_type": "markdown",
   "id": "47a30efe",
   "metadata": {},
   "source": [
    "# Extract test file"
   ]
  },
  {
   "cell_type": "code",
   "execution_count": 2,
   "id": "d5ce17b6",
   "metadata": {},
   "outputs": [],
   "source": [
    "# Path to folder:\n",
    "PATH = \"\""
   ]
  },
  {
   "cell_type": "code",
   "execution_count": 3,
   "id": "d3af1058",
   "metadata": {},
   "outputs": [],
   "source": [
    "# Path to file\n",
    "PATH_to_file = PATH + 'AmazonDataset/Test/test-jpg.tar.7z'\n",
    "PATH_to_extraction = PATH + 'AmazonDataset/Test/'"
   ]
  },
  {
   "cell_type": "code",
   "execution_count": 4,
   "id": "512846ff",
   "metadata": {},
   "outputs": [],
   "source": [
    "Archive('AmazonDataset/Test/test-jpg.tar.7z',).extractall(PATH_to_extraction)"
   ]
  },
  {
   "cell_type": "code",
   "execution_count": 5,
   "id": "d258d7a7",
   "metadata": {},
   "outputs": [
    {
     "data": {
      "text/plain": [
       "'AmazonDataset/Test/test-jpg.tar'"
      ]
     },
     "execution_count": 5,
     "metadata": {},
     "output_type": "execute_result"
    }
   ],
   "source": [
    "PATH_to_tar = PATH_to_file[:-3]\n",
    "PATH_to_tar"
   ]
  },
  {
   "cell_type": "code",
   "execution_count": 6,
   "id": "8160e837",
   "metadata": {},
   "outputs": [],
   "source": [
    "tar = tarfile.open(PATH_to_tar)\n",
    "tar.extractall(path=PATH_to_extraction)\n",
    "tar.close()"
   ]
  },
  {
   "cell_type": "markdown",
   "id": "2463cd9e",
   "metadata": {},
   "source": [
    "# Extract train file"
   ]
  },
  {
   "cell_type": "code",
   "execution_count": 7,
   "id": "32f26477",
   "metadata": {},
   "outputs": [],
   "source": [
    "# Path to file \n",
    "PATH_to_file = PATH + 'AmazonDataset/Train/train-jpg.tar.7z'\n",
    "PATH_to_extraction = PATH + 'AmazonDataset/Train/'"
   ]
  },
  {
   "cell_type": "code",
   "execution_count": 8,
   "id": "49b8d55e",
   "metadata": {},
   "outputs": [],
   "source": [
    "Archive(PATH_to_file).extractall(PATH_to_extraction)"
   ]
  },
  {
   "cell_type": "code",
   "execution_count": 9,
   "id": "d07f6b3e",
   "metadata": {},
   "outputs": [
    {
     "data": {
      "text/plain": [
       "'AmazonDataset/Train/train-jpg.tar'"
      ]
     },
     "execution_count": 9,
     "metadata": {},
     "output_type": "execute_result"
    }
   ],
   "source": [
    "PATH_to_tar = PATH_to_file[:-3]\n",
    "PATH_to_tar"
   ]
  },
  {
   "cell_type": "code",
   "execution_count": 10,
   "id": "d74ff292",
   "metadata": {},
   "outputs": [],
   "source": [
    "tar = tarfile.open(PATH_to_tar)\n",
    "tar.extractall(path=PATH_to_extraction)\n",
    "tar.close()"
   ]
  },
  {
   "cell_type": "code",
   "execution_count": null,
   "id": "cfbbf03c",
   "metadata": {},
   "outputs": [],
   "source": []
  }
 ],
 "metadata": {
  "kernelspec": {
   "display_name": "Python 3",
   "language": "python",
   "name": "python3"
  },
  "language_info": {
   "codemirror_mode": {
    "name": "ipython",
    "version": 3
   },
   "file_extension": ".py",
   "mimetype": "text/x-python",
   "name": "python",
   "nbconvert_exporter": "python",
   "pygments_lexer": "ipython3",
   "version": "3.6.13"
  }
 },
 "nbformat": 4,
 "nbformat_minor": 5
}
