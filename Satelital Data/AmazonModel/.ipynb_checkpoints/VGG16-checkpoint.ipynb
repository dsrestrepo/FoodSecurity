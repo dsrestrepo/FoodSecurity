{
 "cells": [
  {
   "cell_type": "code",
   "execution_count": 1,
   "id": "95bb333d",
   "metadata": {},
   "outputs": [
    {
     "name": "stdout",
     "output_type": "stream",
     "text": [
      "Init Plugin\n",
      "Init Graph Optimizer\n",
      "Init Kernel\n"
     ]
    }
   ],
   "source": [
    "import tensorflow as tf\n",
    "from tensorflow.keras.layers import Dense, GlobalAveragePooling2D, Dropout, Flatten\n",
    "from tensorflow.keras.models import Model\n",
    "\n",
    "\n",
    "class MyModel(tf.keras.Model):\n",
    "\n",
    "    def __init__(self, n_outputs=outs, pretrained=False, freeze=False, size = width, depth = 3):\n",
    "        \n",
    "        super(MyModel, self).__init__()\n",
    "        \n",
    "        \n",
    "        if pretrained:\n",
    "            self.model_weights = 'imagenet'\n",
    "        else:\n",
    "            self.model_weights = None\n",
    "        \n",
    "        # Download the architecture of VGG16 with ImageNet weights\n",
    "        self.vgg = applications.VGG16(include_top=False, weights=self.model_weights, input_shape= (width,width, depth))\n",
    "        \n",
    "        # Taking the output of the last convolution block in VGG16\n",
    "        self.res_out = self.vgg.output\n",
    "        self.res_in = self.vgg.input\n",
    "        \n",
    "        self.conv2d = Conv2D(1024, 3, padding='same', activation='relu')\n",
    "        self.GlobPoll = GlobalAveragePooling2D()\n",
    "        #self.drop = Dropout(0.2)\n",
    "                       \n",
    "        # Adding a fully connected layer having 1024 neurons\n",
    "        self.fc1 = Dense(1024, activation='relu')\n",
    "        self.fc2 = Dense(512, activation='relu')\n",
    "        #self.flatten = Flatten()\n",
    "        \n",
    "        # Sigmoid Out\n",
    "        self.out = Dense(outs, activation='sigmoid')\n",
    "        \n",
    "        if freeze:\n",
    "            # Training only top layers i.e. the layers which we have added in the end\n",
    "            self.vgg.trainable = False\n",
    "\n",
    "    def call(self, inputs, training=False):\n",
    "\n",
    "        x = self.vgg(inputs)\n",
    "        x = self.conv2d(x)\n",
    "        x = self.GlobPoll(x)\n",
    "        #if training:\n",
    "        #    x = self.drop(x, training=training)\n",
    "        #x = self.flatten(x)\n",
    "        x = self.fc1(x)\n",
    "        x = self.fc2(x)\n",
    "        x = self.out(x)\n",
    "        \n",
    "        return x\n",
    "\n"
   ]
  },
  {
   "cell_type": "code",
   "execution_count": null,
   "id": "e25eea9a",
   "metadata": {},
   "outputs": [],
   "source": []
  }
 ],
 "metadata": {
  "kernelspec": {
   "display_name": "Python 3 (ipykernel)",
   "language": "python",
   "name": "python3"
  },
  "language_info": {
   "codemirror_mode": {
    "name": "ipython",
    "version": 3
   },
   "file_extension": ".py",
   "mimetype": "text/x-python",
   "name": "python",
   "nbconvert_exporter": "python",
   "pygments_lexer": "ipython3",
   "version": "3.9.6"
  }
 },
 "nbformat": 4,
 "nbformat_minor": 5
}
