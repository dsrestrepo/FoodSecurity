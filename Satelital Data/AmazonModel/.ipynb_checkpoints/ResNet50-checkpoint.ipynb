{
 "cells": [
  {
   "cell_type": "code",
   "execution_count": 8,
   "id": "9212d998",
   "metadata": {},
   "outputs": [],
   "source": [
    "import tensorflow as tf\n",
    "from tensorflow.keras.layers import Dense, GlobalAveragePooling2D\n",
    "from tensorflow.keras.models import Model\n",
    "from tensorflow.keras import applications\n",
    "\n",
    "class MyModel(tf.keras.Model):\n",
    "\n",
    "    def __init__(self, n_outputs=7, pretrained=False, freeze=False, size = 256, depth = 3):\n",
    "        \n",
    "        super(MyModel, self).__init__()\n",
    "        \n",
    "        \n",
    "        if pretrained:\n",
    "            self.model_weights = 'imagenet'\n",
    "        else:\n",
    "            self.model_weights = None\n",
    "        \n",
    "        # Download the architecture of ResNet50 with ImageNet weights\n",
    "        self.resnet = applications.resnet50.ResNet50(include_top=False, weights=self.model_weights, input_shape= (size,size, depth))\n",
    "        \n",
    "        # Taking the output of the last convolution block in ResNet50\n",
    "        self.res_out = self.resnet.output\n",
    "        self.res_in = self.resnet.input\n",
    "        \n",
    "        self.GlobPoll = GlobalAveragePooling2D()\n",
    "        \n",
    "        # Adding a fully connected layer having 1024 neurons\n",
    "        #self.fc1 = Dense(1024, activation='relu')\n",
    "        \n",
    "        # Sigmoid Out\n",
    "        self.out = Dense(n_outputs, activation='sigmoid')\n",
    "        \n",
    "        if freeze:\n",
    "            # Training only top layers i.e. the layers which we have added in the end\n",
    "            self.resnet.trainable = False\n",
    "\n",
    "    def call(self, inputs):\n",
    "\n",
    "        x = self.resnet(inputs)\n",
    "        x = self.GlobPoll(x)\n",
    "        #x = self.fc1(x)\n",
    "        x = self.out(x)\n",
    "        \n",
    "        return x\n",
    "\n"
   ]
  },
  {
   "cell_type": "code",
   "execution_count": null,
   "id": "0399cc67",
   "metadata": {},
   "outputs": [],
   "source": []
  },
  {
   "cell_type": "code",
   "execution_count": null,
   "id": "fda71011",
   "metadata": {},
   "outputs": [],
   "source": []
  }
 ],
 "metadata": {
  "kernelspec": {
   "display_name": "Python 3",
   "language": "python",
   "name": "python3"
  },
  "language_info": {
   "codemirror_mode": {
    "name": "ipython",
    "version": 3
   },
   "file_extension": ".py",
   "mimetype": "text/x-python",
   "name": "python",
   "nbconvert_exporter": "python",
   "pygments_lexer": "ipython3",
   "version": "3.6.13"
  }
 },
 "nbformat": 4,
 "nbformat_minor": 5
}
