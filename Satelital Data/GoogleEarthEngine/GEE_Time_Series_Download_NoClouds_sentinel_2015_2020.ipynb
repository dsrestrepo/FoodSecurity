{
 "cells": [
  {
   "cell_type": "code",
   "execution_count": 1,
   "metadata": {
    "colab": {
     "base_uri": "https://localhost:8080/"
    },
    "executionInfo": {
     "elapsed": 4233,
     "status": "ok",
     "timestamp": 1627303021058,
     "user": {
      "displayName": "DAVID RESTREPO",
      "photoUrl": "https://lh3.googleusercontent.com/a-/AOh14GgqxItBQRJ0dDzIdCZM0BMuA0KeTKTlKRNGMApY=s64",
      "userId": "09638303782015555303"
     },
     "user_tz": 300
    },
    "id": "fuUk9RXxntGX",
    "outputId": "b9b95016-9ca7-4797-883b-19b9a7345cce"
   },
   "outputs": [],
   "source": [
    "#! pip install geemap\n",
    "#! pip install epiweeks"
   ]
  },
  {
   "cell_type": "code",
   "execution_count": 2,
   "metadata": {
    "executionInfo": {
     "elapsed": 173,
     "status": "ok",
     "timestamp": 1627310048383,
     "user": {
      "displayName": "DAVID RESTREPO",
      "photoUrl": "https://lh3.googleusercontent.com/a-/AOh14GgqxItBQRJ0dDzIdCZM0BMuA0KeTKTlKRNGMApY=s64",
      "userId": "09638303782015555303"
     },
     "user_tz": 300
    },
    "id": "VgXTtnhenVnl"
   },
   "outputs": [],
   "source": [
    "import ee\n",
    "import geemap"
   ]
  },
  {
   "cell_type": "code",
   "execution_count": 3,
   "metadata": {
    "colab": {
     "base_uri": "https://localhost:8080/"
    },
    "executionInfo": {
     "elapsed": 178,
     "status": "ok",
     "timestamp": 1627310049958,
     "user": {
      "displayName": "DAVID RESTREPO",
      "photoUrl": "https://lh3.googleusercontent.com/a-/AOh14GgqxItBQRJ0dDzIdCZM0BMuA0KeTKTlKRNGMApY=s64",
      "userId": "09638303782015555303"
     },
     "user_tz": 300
    },
    "id": "vLzwZPDEz7BQ",
    "outputId": "fa6c4374-4f32-4757-ac98-205d0a7eb78f"
   },
   "outputs": [
    {
     "data": {
      "text/plain": [
       "\"\\n#connect with drive\\nfrom google.colab import drive\\ndrive.mount('/content/drive')\\n\""
      ]
     },
     "execution_count": 3,
     "metadata": {},
     "output_type": "execute_result"
    }
   ],
   "source": [
    "# If you are working with a shape file stored in google drive remove the quotes (\"\"\" \"\"\")\n",
    "\n",
    "\"\"\"\n",
    "#connect with drive\n",
    "from google.colab import drive\n",
    "drive.mount('/content/drive')\n",
    "\"\"\""
   ]
  },
  {
   "cell_type": "code",
   "execution_count": 4,
   "metadata": {
    "colab": {
     "base_uri": "https://localhost:8080/"
    },
    "executionInfo": {
     "elapsed": 14246,
     "status": "ok",
     "timestamp": 1627310064886,
     "user": {
      "displayName": "DAVID RESTREPO",
      "photoUrl": "https://lh3.googleusercontent.com/a-/AOh14GgqxItBQRJ0dDzIdCZM0BMuA0KeTKTlKRNGMApY=s64",
      "userId": "09638303782015555303"
     },
     "user_tz": 300
    },
    "id": "rk_wa2QD0A9R",
    "outputId": "dd5481bc-ff4f-445e-9c41-29244c912f74"
   },
   "outputs": [
    {
     "data": {
      "text/html": [
       "<p>To authorize access needed by Earth Engine, open the following\n",
       "        URL in a web browser and follow the instructions:</p>\n",
       "        <p><a href=https://accounts.google.com/o/oauth2/auth?client_id=517222506229-vsmmajv00ul0bs7p89v5m89qs8eb9359.apps.googleusercontent.com&scope=https%3A%2F%2Fwww.googleapis.com%2Fauth%2Fearthengine+https%3A%2F%2Fwww.googleapis.com%2Fauth%2Fdevstorage.full_control&redirect_uri=urn%3Aietf%3Awg%3Aoauth%3A2.0%3Aoob&response_type=code&code_challenge=ZulFsBMboil-_yFEY8RgydOh0Rv30-b7BPbRdbnG3xU&code_challenge_method=S256>https://accounts.google.com/o/oauth2/auth?client_id=517222506229-vsmmajv00ul0bs7p89v5m89qs8eb9359.apps.googleusercontent.com&scope=https%3A%2F%2Fwww.googleapis.com%2Fauth%2Fearthengine+https%3A%2F%2Fwww.googleapis.com%2Fauth%2Fdevstorage.full_control&redirect_uri=urn%3Aietf%3Awg%3Aoauth%3A2.0%3Aoob&response_type=code&code_challenge=ZulFsBMboil-_yFEY8RgydOh0Rv30-b7BPbRdbnG3xU&code_challenge_method=S256</a></p>\n",
       "        <p>The authorization workflow will generate a code, which you\n",
       "        should paste in the box below</p>\n",
       "        "
      ],
      "text/plain": [
       "<IPython.core.display.HTML object>"
      ]
     },
     "metadata": {},
     "output_type": "display_data"
    },
    {
     "name": "stdout",
     "output_type": "stream",
     "text": [
      "Enter verification code: 4/1AX4XfWiLzxjza4fmcgdNAU5zRgHvdvdkdlX04PVF9XQP-sLuvDEOprg5BRQ\n",
      "\n",
      "Successfully saved authorization token.\n"
     ]
    }
   ],
   "source": [
    "# Trigger the authentication flow.\n",
    "ee.Authenticate()\n",
    "\n",
    "# Initialize the library.\n",
    "ee.Initialize()"
   ]
  },
  {
   "cell_type": "code",
   "execution_count": 34,
   "metadata": {
    "executionInfo": {
     "elapsed": 162,
     "status": "ok",
     "timestamp": 1627311038641,
     "user": {
      "displayName": "DAVID RESTREPO",
      "photoUrl": "https://lh3.googleusercontent.com/a-/AOh14GgqxItBQRJ0dDzIdCZM0BMuA0KeTKTlKRNGMApY=s64",
      "userId": "09638303782015555303"
     },
     "user_tz": 300
    },
    "id": "6AznUyAgnqG7"
   },
   "outputs": [],
   "source": [
    "Map = geemap.Map()\n",
    "#Map"
   ]
  },
  {
   "cell_type": "code",
   "execution_count": 62,
   "metadata": {},
   "outputs": [],
   "source": [
    "# https://sites.google.com/site/seriescol/shapes\n",
    "shape = ee.FeatureCollection('users/dsrestrepo/mpio')\n",
    "\n",
    "# Cauca = shape.filter(ee.Filter.eq('DPTO_CCDGO', 19))\n",
    "# region = shape.filter(ee.Filter.eq('MPIO_CCNCT\t', 19001))\n",
    "# Medellin = ee.FeatureCollection('users/dsrestrepo/Medellin')\n",
    "\n",
    "region = shape.filter(ee.Filter.eq('MPIOS', '19001'))\n",
    "region_original = region\n",
    "Map.addLayer(region, {}, \"Region\")"
   ]
  },
  {
   "cell_type": "code",
   "execution_count": 63,
   "metadata": {},
   "outputs": [
    {
     "name": "stdout",
     "output_type": "stream",
     "text": [
      "[[-76.82029652569813, 2.5805247323487936], [-76.82029652569813, 2.35643096165237], [-76.44899703783351, 2.35643096165237], [-76.44899703783351, 2.5805247323487936], [-76.82029652569813, 2.5805247323487936]]\n"
     ]
    }
   ],
   "source": [
    "import numpy as np\n",
    "def get_rectangular_region(region):\n",
    "    coordenates = np.array(region.geometry().getInfo()['coordinates'][0])\n",
    "    latitude = []\n",
    "    longitude = []\n",
    "    \n",
    "    latitude = [coordenates[:,0].min(), coordenates[:,0].max()]\n",
    "    longitude = [coordenates[:,1].max(), coordenates[:,1].min()]\n",
    "    \n",
    "    \n",
    "    # Build square:\n",
    "    coordinates_square = []\n",
    "    '''\n",
    "    for i in range(0,2):\n",
    "        for j in range(0,2):\n",
    "            coordinates_square.append([latitude[i],longitude[j]])\n",
    "    '''\n",
    "    \n",
    "    coordinates_square.append([latitude[0],longitude[0]])\n",
    "    coordinates_square.append([latitude[0],longitude[1]])\n",
    "    coordinates_square.append([latitude[1],longitude[1]])\n",
    "    coordinates_square.append([latitude[1],longitude[0]])\n",
    "    coordinates_square.append([latitude[0],longitude[0]])\n",
    "    \n",
    "    return coordinates_square\n",
    "\n",
    "coordinates_square = get_rectangular_region(region)\n",
    "print(coordinates_square)"
   ]
  },
  {
   "cell_type": "code",
   "execution_count": 64,
   "metadata": {},
   "outputs": [],
   "source": [
    "region = ee.Geometry.Polygon(\n",
    "  [\n",
    "    coordinates_square\n",
    "  ]\n",
    ")\n",
    "\n",
    "Map.addLayer(region, {}, \"Region_square\")"
   ]
  },
  {
   "cell_type": "code",
   "execution_count": 65,
   "metadata": {},
   "outputs": [
    {
     "data": {
      "application/vnd.jupyter.widget-view+json": {
       "model_id": "ff75179522d94e099702983fc6b380db",
       "version_major": 2,
       "version_minor": 0
      },
      "text/plain": [
       "Map(bottom=517286.0, center=[2.506143229744594, -76.65401458740236], controls=(WidgetControl(options=['positio…"
      ]
     },
     "metadata": {},
     "output_type": "display_data"
    }
   ],
   "source": [
    "Map"
   ]
  },
  {
   "cell_type": "code",
   "execution_count": 66,
   "metadata": {
    "colab": {
     "base_uri": "https://localhost:8080/"
    },
    "executionInfo": {
     "elapsed": 3,
     "status": "ok",
     "timestamp": 1627311039055,
     "user": {
      "displayName": "DAVID RESTREPO",
      "photoUrl": "https://lh3.googleusercontent.com/a-/AOh14GgqxItBQRJ0dDzIdCZM0BMuA0KeTKTlKRNGMApY=s64",
      "userId": "09638303782015555303"
     },
     "user_tz": 300
    },
    "id": "HHQrGXRnv-6D",
    "outputId": "1cc2f8f3-e030-4ee8-f4fc-af6e7a87261f"
   },
   "outputs": [
    {
     "data": {
      "text/plain": [
       "[2015, 2016, 2017, 2018, 2019, 2020]"
      ]
     },
     "execution_count": 66,
     "metadata": {},
     "output_type": "execute_result"
    }
   ],
   "source": [
    "# Define the range of years\n",
    "initial_year = 2015\n",
    "end_year = 2020\n",
    "years = ee.List.sequence(initial_year, end_year)\n",
    "# Define the range of weeks:\n",
    "\n",
    "first_2015_week = 44\n",
    "weeks_2015 = list(range(first_2015_week,53)) # We don't have data till Half October, so we start in November 1st (epiweek 44)\n",
    "weeks = list(range(1,53)) # 52 epiweeks each year\n",
    "\n",
    "years.getInfo()\n",
    "#months.getInfo()"
   ]
  },
  {
   "cell_type": "markdown",
   "metadata": {},
   "source": [
    "# Get number of images each month"
   ]
  },
  {
   "cell_type": "code",
   "execution_count": 67,
   "metadata": {},
   "outputs": [],
   "source": [
    "from epiweeks import Week, Year\n",
    "\n",
    "def images_per_week(year, week):\n",
    "    \n",
    "    # Get date from epiweek\n",
    "    date = Week(year, week).startdate()\n",
    "    \n",
    "    # From date take year, month and day:\n",
    "    year = date.year\n",
    "    month = date.month\n",
    "    day = date.day\n",
    "    \n",
    "    # range of dates to take sentinel data\n",
    "    start_date = ee.Date.fromYMD(year, month, day)\n",
    "    end_date = start_date.advance(7, \"days\")\n",
    "    \n",
    "    #https://developers.google.com/earth-engine/datasets/catalog/sentinel-2\n",
    "    collection = ee.ImageCollection('COPERNICUS/S2') \\\n",
    "        .filterDate(start_date, end_date) \\\n",
    "        .filterBounds(region) \\\n",
    "        #.filter(ee.Filter.lt('CLOUDY_PIXEL_PERCENTAGE', 80))\n",
    "    \n",
    "    print(f'the images in epiweek {week} of year {year} are {collection.size().getInfo()}')\n",
    "    # Take month and year of month with 0 images\n",
    "    if collection.size().getInfo() == 0:\n",
    "        print('is zero')\n",
    "        return year, week"
   ]
  },
  {
   "cell_type": "code",
   "execution_count": null,
   "metadata": {},
   "outputs": [
    {
     "name": "stdout",
     "output_type": "stream",
     "text": [
      "the images in epiweek 44 of year 2015 are 0\n",
      "is zero\n",
      "the images in epiweek 45 of year 2015 are 0\n",
      "is zero\n",
      "the images in epiweek 46 of year 2015 are 0\n",
      "is zero\n",
      "the images in epiweek 47 of year 2015 are 4\n",
      "the images in epiweek 48 of year 2015 are 0\n",
      "is zero\n",
      "the images in epiweek 49 of year 2015 are 3\n",
      "the images in epiweek 50 of year 2015 are 0\n",
      "is zero\n",
      "the images in epiweek 51 of year 2015 are 6\n",
      "the images in epiweek 52 of year 2015 are 2\n",
      "the images in epiweek 1 of year 2016 are 0\n",
      "is zero\n",
      "the images in epiweek 2 of year 2016 are 2\n",
      "the images in epiweek 3 of year 2016 are 6\n",
      "the images in epiweek 4 of year 2016 are 2\n",
      "the images in epiweek 5 of year 2016 are 0\n",
      "is zero\n",
      "the images in epiweek 6 of year 2016 are 2\n",
      "the images in epiweek 7 of year 2016 are 2\n",
      "the images in epiweek 8 of year 2016 are 0\n",
      "is zero\n",
      "the images in epiweek 9 of year 2016 are 0\n",
      "is zero\n",
      "the images in epiweek 10 of year 2016 are 2\n",
      "the images in epiweek 11 of year 2016 are 0\n",
      "is zero\n",
      "the images in epiweek 12 of year 2016 are 4\n"
     ]
    }
   ],
   "source": [
    "dates_0_images = []\n",
    "# See images by month\n",
    "for year in years.getInfo():\n",
    "    if year == 2015:\n",
    "        for week in weeks_2015:\n",
    "            dates_0_images.append(images_per_week(year, week))\n",
    "    else:\n",
    "        for week in weeks:\n",
    "            dates_0_images.append(images_per_week(year, week))\n",
    "dates_0_images = list(filter(None, dates_0_images))"
   ]
  },
  {
   "cell_type": "code",
   "execution_count": null,
   "metadata": {},
   "outputs": [],
   "source": [
    "# List of weeks with 0 images\n",
    "dates_0_images"
   ]
  },
  {
   "cell_type": "markdown",
   "metadata": {},
   "source": [
    "# Cloud Mask"
   ]
  },
  {
   "cell_type": "code",
   "execution_count": null,
   "metadata": {},
   "outputs": [],
   "source": [
    "# Function to mask clouds using the Sentinel-2 QA band\n",
    "# param {ee.Image} image Sentinel-2 image\n",
    "# return {ee.Image} cloud masked Sentinel-2 image\n",
    "\n",
    "def maskS2clouds(image):\n",
    "    qa = image.select('QA60')\n",
    "\n",
    "    # Bits 10 and 11 are clouds and cirrus, respectively.\n",
    "    cloudBitMask = 1 << 10\n",
    "    cirrusBitMask = 1 << 11\n",
    "\n",
    "    # Both flags should be set to zero, indicating clear conditions.\n",
    "    mask = qa.bitwiseAnd(cirrusBitMask).eq(0) \\\n",
    "      #.And(qa.bitwiseAnd(cloudBitMask).eq(0))\n",
    "\n",
    "    return image.updateMask(mask).divide(10000)\n"
   ]
  },
  {
   "cell_type": "code",
   "execution_count": null,
   "metadata": {},
   "outputs": [],
   "source": []
  },
  {
   "cell_type": "markdown",
   "metadata": {},
   "source": [
    "# Create one image per month with as few clouds as possible"
   ]
  },
  {
   "cell_type": "code",
   "execution_count": null,
   "metadata": {},
   "outputs": [],
   "source": [
    "from epiweeks import Week, Year\n",
    "\n",
    "def weekly_image(year, week):\n",
    "    \n",
    "    # Get date from epiweek\n",
    "    date = Week(year, week).startdate()\n",
    "    \n",
    "    # From date take year, month and day:\n",
    "    year = date.year\n",
    "    month = date.month\n",
    "    day = date.day\n",
    "    \n",
    "    # Define Start Date\n",
    "    start_date = ee.Date.fromYMD(year, month, day)\n",
    "\n",
    "    # If no images in that week\n",
    "    if ((year, week) in dates_0_images):\n",
    "        print('in')\n",
    "        # Take more days after week ends (Two weeks more after)\n",
    "        #end_date = start_date.advance(15, \"days\")\n",
    "        end_date = start_date.advance(21, \"days\")\n",
    "\n",
    "        # Take more days before week starts (Two weeks before)\n",
    "        start_date = start_date.advance(-7, \"days\")\n",
    "    else:\n",
    "        # ends two weeks after\n",
    "        # end_date = start_date.advance(7, \"days\")\n",
    "        end_date = start_date.advance(15, \"days\")\n",
    "    \n",
    "    # Take data and filter by dates and region\n",
    "    #https://developers.google.com/earth-engine/datasets/catalog/sentinel-2\n",
    "    collection = ee.ImageCollection('COPERNICUS/S2') \\\n",
    "        .filterDate(start_date, end_date) \\\n",
    "        .filterBounds(region)\n",
    "    \n",
    "    \n",
    "    \n",
    "    # Sentinel Images Composite\n",
    "    #collection = collection.map(maskS2clouds)\n",
    "    \n",
    "    # Get a least cloudy image\n",
    "    #image = ee.Image(collection.sort('CLOUDY_PIXEL_PERCENTAGE').first())\n",
    "    \n",
    "    # Composite \n",
    "    image = collection.median()\n",
    "    \n",
    "    return image\n",
    "    \n",
    "    "
   ]
  },
  {
   "cell_type": "markdown",
   "metadata": {},
   "source": [
    "# Get image dimensions"
   ]
  },
  {
   "cell_type": "code",
   "execution_count": null,
   "metadata": {},
   "outputs": [],
   "source": [
    "# Take a random image of dataset\n",
    "test_year = 2017\n",
    "test_week = 35\n",
    "image = ee.Image(weekly_image(test_year, test_week))\n"
   ]
  },
  {
   "cell_type": "code",
   "execution_count": null,
   "metadata": {},
   "outputs": [],
   "source": [
    "import numpy as np\n",
    "# Mask image\n",
    "image = image.clip(region).unmask()\n",
    "\n",
    "#https://gis.stackexchange.com/questions/350771/earth-engine-simplest-way-to-move-from-ee-image-to-array-for-use-in-sklearn/351177#351177\n",
    "# Reproject image from 15m/px -> 120m/px due to the maximum number of bits allowed in the array.\n",
    "# We select just one band a reference (red)\n",
    "image = image.reproject(crs = image.select('B4').projection(), scale= 120)\n",
    "# Sample image as rectangle\n",
    "\n",
    "#band_arrs = image.sampleRectangle(region=region.geometry(), defaultValue= 0.0)\n",
    "band_arrs = image.sampleRectangle(region=region_original.geometry(), defaultValue= 0.0)\n",
    "\n",
    "\n",
    "# take red band from array\n",
    "band_arr_red = band_arrs.get('B4')\n",
    "# Array to numpy\n",
    "np_arr_red = np.array(band_arr_red.getInfo())\n",
    "# Shape of image will be aprox:\n",
    "height = (10 * np_arr_red.shape[0]) - 10\n",
    "width = (10 * np_arr_red.shape[1]) - 10\n",
    "print(f'the dimensions of the image will be height: {height} and width: {width}')"
   ]
  },
  {
   "cell_type": "markdown",
   "metadata": {},
   "source": [
    "# Download RGB Image"
   ]
  },
  {
   "cell_type": "code",
   "execution_count": null,
   "metadata": {
    "executionInfo": {
     "elapsed": 1,
     "status": "ok",
     "timestamp": 1627311039434,
     "user": {
      "displayName": "DAVID RESTREPO",
      "photoUrl": "https://lh3.googleusercontent.com/a-/AOh14GgqxItBQRJ0dDzIdCZM0BMuA0KeTKTlKRNGMApY=s64",
      "userId": "09638303782015555303"
     },
     "user_tz": 300
    },
    "id": "ZKFFvKCC4Lq9"
   },
   "outputs": [],
   "source": [
    "# https://www.usgs.gov/faqs/what-are-band-designations-landsat-satellites?qt-news_science_products=0#qt-news_science_products\n",
    "# B4: Red, B3: Green, B2: Blue\n",
    "\n",
    "vis_params = {'bands': ['B4',  'B3',  'B2'],\n",
    "              'min': 0,   \n",
    "              'max':255,}          \n",
    "#              'max': 0.3,}\n",
    "#              'max': 3500,}"
   ]
  },
  {
   "cell_type": "code",
   "execution_count": null,
   "metadata": {
    "colab": {
     "base_uri": "https://localhost:8080/",
     "height": 1000
    },
    "executionInfo": {
     "elapsed": 311371,
     "status": "ok",
     "timestamp": 1627311351038,
     "user": {
      "displayName": "DAVID RESTREPO",
      "photoUrl": "https://lh3.googleusercontent.com/a-/AOh14GgqxItBQRJ0dDzIdCZM0BMuA0KeTKTlKRNGMApY=s64",
      "userId": "09638303782015555303"
     },
     "user_tz": 300
    },
    "id": "BYDX8FYX4Ltp",
    "outputId": "13895ab5-405d-4499-d717-04dd79f71381"
   },
   "outputs": [],
   "source": [
    "from functools import partial\n",
    "\n",
    "# For the example just use till 2020\n",
    "initial_year = 2016\n",
    "end_year = 2016\n",
    "years = ee.List.sequence(initial_year, end_year)\n",
    "\n",
    "# For each year\n",
    "for year in years.getInfo():\n",
    "    \n",
    "    # Create a new empty list of images\n",
    "    images = ee.List([])\n",
    "    \n",
    "    if (year < 2015 or year > 2020):\n",
    "        print('No images for that date')\n",
    "        break\n",
    "    # 2015 Starts after week 44\n",
    "    if year == 2015:\n",
    "        # Bound weekly_image function with the year\n",
    "        bound_weekly_image = partial(weekly_image, year)\n",
    "        # Apply function to each week\n",
    "        for week in weeks_2015:\n",
    "            # Get a single image each week\n",
    "            images = images.add(bound_weekly_image(week))     \n",
    "    else:\n",
    "        # Bound weekly_image function with the year\n",
    "        bound_weekly_image = partial(weekly_image, year)\n",
    "        # Apply function to each week\n",
    "        for week in weeks:\n",
    "            images = images.add(bound_weekly_image(week))   \n",
    "            \n",
    "\n",
    "    for index in range(0, 52):\n",
    "        # Ignore the last 43 index from 2015 because data starts in week 44\n",
    "        if (year == 2015 and index < (first_2015_week - 1)):\n",
    "            continue\n",
    "        \n",
    "        if (year == 2015):\n",
    "          # Take form ee list the image\n",
    "          image = ee.Image(images.get(index - (first_2015_week-1)))\n",
    "        else:\n",
    "          # Take form ee list the image\n",
    "          image = ee.Image(images.get(index))\n",
    "        \n",
    "        # Name\n",
    "        layer_name = \"Image \" + str(year) + \"_\" + str(index + 1)\n",
    "        # 2015 starts in week 44\n",
    "        if (year == 2015):\n",
    "            layer_name = \"Image \" + str(year) + \"_\" + str(index + 1)\n",
    "        \n",
    "        # Download:\n",
    "        ## To PC\n",
    "\n",
    "        '''\n",
    "        .map(function(image) {\n",
    "         return image.multiply(512).uint8();\n",
    "        }\n",
    "        '''\n",
    "        \n",
    "        image_to_png = image.select(['B4', 'B3', 'B2']).divide(3500).multiply(255).toUint8()\n",
    "        image_unmask = image_to_png.clip(region).unmask()\n",
    "\n",
    "        geemap.get_image_thumbnail(image_unmask, 'ImagesSentinel/'+ layer_name + '.png', vis_params, dimensions=(width ,height), format='png', region=region) #region=region.geometry())\n",
    "\n",
    "        ## To Drive\n",
    "        # Export the image, specifying scale and region.\n",
    "        # https://developers.google.com/earth-engine/guides/reducers_reduce_region\n",
    "        #geemap.ee_export_image_to_drive(sharpened, description= layer_name + '_sharpend', \n",
    "        #                                folder='GEE/Medellin_Sentinel', \n",
    "        #                                region=region.geometry(), \n",
    "        #                                scale=10)\n",
    "\n",
    "        '''\n",
    "        task = ee.batch.Export.image.toDrive(**{\n",
    "            'image': image.select(['B4', 'B3', 'B2', 'B5', 'B6', 'B7', 'B8']).divide(3500).multiply(255).toUint8(),\n",
    "            'description': layer_name,\n",
    "            'folder':'GEE/Medellin_Sentinel',\n",
    "            'scale': 10,\n",
    "            'region': region,\n",
    "\n",
    "            'formatOptions': {'cloudOptimized': True},\n",
    "            #'region': region.geometry()\n",
    "        })\n",
    "\n",
    "        task.start()\n",
    "        '''"
   ]
  },
  {
   "cell_type": "code",
   "execution_count": null,
   "metadata": {},
   "outputs": [],
   "source": [
    "#task.status()"
   ]
  },
  {
   "cell_type": "markdown",
   "metadata": {},
   "source": [
    "# See an example of the images"
   ]
  },
  {
   "cell_type": "code",
   "execution_count": 60,
   "metadata": {
    "executionInfo": {
     "elapsed": 11,
     "status": "ok",
     "timestamp": 1627311351039,
     "user": {
      "displayName": "DAVID RESTREPO",
      "photoUrl": "https://lh3.googleusercontent.com/a-/AOh14GgqxItBQRJ0dDzIdCZM0BMuA0KeTKTlKRNGMApY=s64",
      "userId": "09638303782015555303"
     },
     "user_tz": 300
    },
    "id": "_t9jvi5n4mid"
   },
   "outputs": [
    {
     "name": "stdout",
     "output_type": "stream",
     "text": [
      "in\n",
      "in\n",
      "in\n",
      "in\n",
      "in\n",
      "in\n",
      "in\n",
      "in\n",
      "in\n",
      "in\n",
      "in\n",
      "in\n"
     ]
    },
    {
     "data": {
      "application/vnd.jupyter.widget-view+json": {
       "model_id": "ff75179522d94e099702983fc6b380db",
       "version_major": 2,
       "version_minor": 0
      },
      "text/plain": [
       "Map(bottom=1131.0, center=[2.4684876403634086, -76.63464678176533], controls=(WidgetControl(options=['position…"
      ]
     },
     "metadata": {},
     "output_type": "display_data"
    }
   ],
   "source": [
    "from functools import partial\n",
    "\n",
    "# For the example just use 2016\n",
    "initial_year = 2016\n",
    "end_year = 2016\n",
    "years = ee.List.sequence(initial_year, end_year)\n",
    "\n",
    "# For each year\n",
    "for year in years.getInfo():\n",
    "    \n",
    "    # Create a new empty list of images\n",
    "    images = ee.List([])\n",
    "    \n",
    "    if (year < 2015 or year > 2020):\n",
    "        print('No images for that date')\n",
    "        break\n",
    "    # 2015 Starts after week 44\n",
    "    if year == 2015:\n",
    "        # Bound weekly_image function with the year\n",
    "        bound_weekly_image = partial(weekly_image, year)\n",
    "        # Apply function to each month\n",
    "        for week in weeks_2015:\n",
    "            # Get a single image each month\n",
    "            images = images.add(bound_weekly_image(week))     \n",
    "    else:\n",
    "        # Bound weekly_image function with the year\n",
    "        bound_weekly_image = partial(weekly_image, year)\n",
    "        # Apply function to each month\n",
    "        for week in weeks:\n",
    "            images = images.add(bound_weekly_image(week))   \n",
    "            \n",
    "    #for index in range(0, 52):\n",
    "    for index in range(0, 12):\n",
    "        # Ignore the last 43 index from 2015 because data starts in week 44\n",
    "        if (year == 2015 and index > first_2015_week):\n",
    "            continue\n",
    "        \n",
    "        # Take form ee list the image\n",
    "        image = ee.Image(images.get(index))\n",
    "        \n",
    "        # Name\n",
    "        layer_name = \"Image \" + str(year) + \"_\" + str(index + 1)\n",
    "        # 2015 starts in week 44\n",
    "        if (year == 2015):\n",
    "            layer_name = \"Image \" + str(year) + \"_\" + str(index + 44)\n",
    "\n",
    "        image = image.clip(region).divide(3500).multiply(255).toUint8()\n",
    "        \n",
    "        Map.addLayer(image, vis_params, layer_name)\n",
    "        \n",
    "\n",
    "Map.center_object(region, 13)\n",
    "Map"
   ]
  },
  {
   "cell_type": "code",
   "execution_count": null,
   "metadata": {},
   "outputs": [],
   "source": []
  },
  {
   "cell_type": "code",
   "execution_count": null,
   "metadata": {},
   "outputs": [],
   "source": []
  },
  {
   "cell_type": "code",
   "execution_count": null,
   "metadata": {
    "executionInfo": {
     "elapsed": 174,
     "status": "ok",
     "timestamp": 1627311039054,
     "user": {
      "displayName": "DAVID RESTREPO",
      "photoUrl": "https://lh3.googleusercontent.com/a-/AOh14GgqxItBQRJ0dDzIdCZM0BMuA0KeTKTlKRNGMApY=s64",
      "userId": "09638303782015555303"
     },
     "user_tz": 300
    },
    "id": "BC_WBkMdvPKh"
   },
   "outputs": [],
   "source": []
  },
  {
   "cell_type": "code",
   "execution_count": null,
   "metadata": {},
   "outputs": [],
   "source": []
  }
 ],
 "metadata": {
  "colab": {
   "authorship_tag": "ABX9TyNHnK42Jbm/G2FOi5nY5kMS",
   "collapsed_sections": [],
   "name": "GEE_Time_Series_Download_NoClouds.ipynb",
   "provenance": []
  },
  "kernelspec": {
   "display_name": "Python 3",
   "language": "python",
   "name": "python3"
  },
  "language_info": {
   "codemirror_mode": {
    "name": "ipython",
    "version": 3
   },
   "file_extension": ".py",
   "mimetype": "text/x-python",
   "name": "python",
   "nbconvert_exporter": "python",
   "pygments_lexer": "ipython3",
   "version": "3.6.13"
  }
 },
 "nbformat": 4,
 "nbformat_minor": 1
}
